{
  "nbformat": 4,
  "nbformat_minor": 0,
  "metadata": {
    "kernelspec": {
      "display_name": "Python 3",
      "language": "python",
      "name": "python3"
    },
    "language_info": {
      "codemirror_mode": {
        "name": "ipython",
        "version": 3
      },
      "file_extension": ".py",
      "mimetype": "text/x-python",
      "name": "python",
      "nbconvert_exporter": "python",
      "pygments_lexer": "ipython3",
      "version": "3.7.4"
    },
    "colab": {
      "name": "COVID19_WMAP.ipynb",
      "provenance": [],
      "collapsed_sections": [],
      "toc_visible": true
    }
  },
  "cells": [
    {
      "cell_type": "code",
      "metadata": {
        "id": "2JCGR_u5IeBU",
        "colab_type": "code",
        "colab": {
          "base_uri": "https://localhost:8080/",
          "height": 513
        },
        "outputId": "0550cc2f-0517-43c5-b388-8d6f04825d71"
      },
      "source": [
        "!pip install --upgrade geopandas\n",
        "!pip install --upgrade pyshp\n",
        "!pip install --upgrade shapely\n",
        "!pip install --upgrade descartes\n",
        "!pip install --upgrade psycopg2"
      ],
      "execution_count": null,
      "outputs": [
        {
          "output_type": "stream",
          "text": [
            "Requirement already up-to-date: geopandas in /usr/local/lib/python3.6/dist-packages (0.7.0)\n",
            "Requirement already satisfied, skipping upgrade: shapely in /usr/local/lib/python3.6/dist-packages (from geopandas) (1.7.0)\n",
            "Requirement already satisfied, skipping upgrade: fiona in /usr/local/lib/python3.6/dist-packages (from geopandas) (1.8.13.post1)\n",
            "Requirement already satisfied, skipping upgrade: pyproj>=2.2.0 in /usr/local/lib/python3.6/dist-packages (from geopandas) (2.6.1.post1)\n",
            "Requirement already satisfied, skipping upgrade: pandas>=0.23.0 in /usr/local/lib/python3.6/dist-packages (from geopandas) (1.0.4)\n",
            "Requirement already satisfied, skipping upgrade: attrs>=17 in /usr/local/lib/python3.6/dist-packages (from fiona->geopandas) (19.3.0)\n",
            "Requirement already satisfied, skipping upgrade: six>=1.7 in /usr/local/lib/python3.6/dist-packages (from fiona->geopandas) (1.12.0)\n",
            "Requirement already satisfied, skipping upgrade: click-plugins>=1.0 in /usr/local/lib/python3.6/dist-packages (from fiona->geopandas) (1.1.1)\n",
            "Requirement already satisfied, skipping upgrade: cligj>=0.5 in /usr/local/lib/python3.6/dist-packages (from fiona->geopandas) (0.5.0)\n",
            "Requirement already satisfied, skipping upgrade: munch in /usr/local/lib/python3.6/dist-packages (from fiona->geopandas) (2.5.0)\n",
            "Requirement already satisfied, skipping upgrade: click<8,>=4.0 in /usr/local/lib/python3.6/dist-packages (from fiona->geopandas) (7.1.2)\n",
            "Requirement already satisfied, skipping upgrade: numpy>=1.13.3 in /usr/local/lib/python3.6/dist-packages (from pandas>=0.23.0->geopandas) (1.18.5)\n",
            "Requirement already satisfied, skipping upgrade: python-dateutil>=2.6.1 in /usr/local/lib/python3.6/dist-packages (from pandas>=0.23.0->geopandas) (2.8.1)\n",
            "Requirement already satisfied, skipping upgrade: pytz>=2017.2 in /usr/local/lib/python3.6/dist-packages (from pandas>=0.23.0->geopandas) (2018.9)\n",
            "Requirement already up-to-date: pyshp in /usr/local/lib/python3.6/dist-packages (2.1.0)\n",
            "Requirement already up-to-date: shapely in /usr/local/lib/python3.6/dist-packages (1.7.0)\n",
            "Requirement already up-to-date: descartes in /usr/local/lib/python3.6/dist-packages (1.1.0)\n",
            "Requirement already satisfied, skipping upgrade: matplotlib in /usr/local/lib/python3.6/dist-packages (from descartes) (3.2.1)\n",
            "Requirement already satisfied, skipping upgrade: python-dateutil>=2.1 in /usr/local/lib/python3.6/dist-packages (from matplotlib->descartes) (2.8.1)\n",
            "Requirement already satisfied, skipping upgrade: cycler>=0.10 in /usr/local/lib/python3.6/dist-packages (from matplotlib->descartes) (0.10.0)\n",
            "Requirement already satisfied, skipping upgrade: pyparsing!=2.0.4,!=2.1.2,!=2.1.6,>=2.0.1 in /usr/local/lib/python3.6/dist-packages (from matplotlib->descartes) (2.4.7)\n",
            "Requirement already satisfied, skipping upgrade: numpy>=1.11 in /usr/local/lib/python3.6/dist-packages (from matplotlib->descartes) (1.18.5)\n",
            "Requirement already satisfied, skipping upgrade: kiwisolver>=1.0.1 in /usr/local/lib/python3.6/dist-packages (from matplotlib->descartes) (1.2.0)\n",
            "Requirement already satisfied, skipping upgrade: six>=1.5 in /usr/local/lib/python3.6/dist-packages (from python-dateutil>=2.1->matplotlib->descartes) (1.12.0)\n",
            "Collecting psycopg2\n",
            "\u001b[?25l  Downloading https://files.pythonhosted.org/packages/a8/8f/1c5690eebf148d1d1554fc00ccf9101e134636553dbb75bdfef4f85d7647/psycopg2-2.8.5.tar.gz (380kB)\n",
            "\u001b[K     |████████████████████████████████| 389kB 2.8MB/s \n",
            "\u001b[31mERROR: Command errored out with exit status 1: python setup.py egg_info Check the logs for full command output.\u001b[0m\n",
            "\u001b[?25h"
          ],
          "name": "stdout"
        }
      ]
    },
    {
      "cell_type": "code",
      "metadata": {
        "id": "3rA741t1IeBL",
        "colab_type": "code",
        "colab": {}
      },
      "source": [
        "import numpy as np\n",
        "import pandas as pd\n",
        "import matplotlib.pyplot as plt\n",
        "import geopandas as gpd\n",
        "import os\n",
        "from mpl_toolkits.axes_grid1 import make_axes_locatable\n",
        "import subprocess as sp\n",
        "from shapely import wkt\n",
        "import seaborn as sns\n",
        "sns.set()\n",
        "import requests\n",
        "import json\n",
        "import psycopg2"
      ],
      "execution_count": 139,
      "outputs": []
    },
    {
      "cell_type": "code",
      "metadata": {
        "id": "RIJ13apyIeBZ",
        "colab_type": "code",
        "colab": {}
      },
      "source": [
        ""
      ],
      "execution_count": null,
      "outputs": []
    },
    {
      "cell_type": "markdown",
      "metadata": {
        "id": "grB6ZYlhIeBe",
        "colab_type": "text"
      },
      "source": [
        "## ---------------------------------------------------------------------------------------\n",
        "## Calling API to request the data\n",
        "## ---------------------------------------------------------------------------------------"
      ]
    },
    {
      "cell_type": "code",
      "metadata": {
        "id": "luziwVCqIeCk",
        "colab_type": "code",
        "colab": {}
      },
      "source": [
        "url = \"https://api.covid19api.com/all?from=2020-01-22T00:00:00Z&to=2020-06-16T00:00:00Z\"\n",
        "\n",
        "payload = {}\n",
        "headers= {}\n",
        "\n",
        "response = requests.request(\"GET\", url, headers=headers, data = payload)\n",
        "\n",
        "data = response.json()\n",
        "\n",
        "with open('files/covid19.json', 'w', encoding='utf-8') as f:\n",
        "    json.dump(data, f, ensure_ascii=False, indent=4)\n",
        "    \n",
        "data_from_json = pd.read_json('files/covid19.json')\n",
        "data_from_json.to_csv(\"files/covid19.csv\", index=False)"
      ],
      "execution_count": null,
      "outputs": []
    },
    {
      "cell_type": "code",
      "metadata": {
        "id": "CISl6vxsIeCu",
        "colab_type": "code",
        "colab": {}
      },
      "source": [
        "corona_df = pd.read_csv(\"files/covid19.csv\")"
      ],
      "execution_count": null,
      "outputs": []
    },
    {
      "cell_type": "code",
      "metadata": {
        "id": "5sKwORo-IeC1",
        "colab_type": "code",
        "colab": {
          "base_uri": "https://localhost:8080/",
          "height": 204
        },
        "outputId": "76303844-79db-4176-ec7a-b5b919f1ec17"
      },
      "source": [
        "corona_df.head()"
      ],
      "execution_count": null,
      "outputs": [
        {
          "output_type": "execute_result",
          "data": {
            "text/html": [
              "<div>\n",
              "<style scoped>\n",
              "    .dataframe tbody tr th:only-of-type {\n",
              "        vertical-align: middle;\n",
              "    }\n",
              "\n",
              "    .dataframe tbody tr th {\n",
              "        vertical-align: top;\n",
              "    }\n",
              "\n",
              "    .dataframe thead th {\n",
              "        text-align: right;\n",
              "    }\n",
              "</style>\n",
              "<table border=\"1\" class=\"dataframe\">\n",
              "  <thead>\n",
              "    <tr style=\"text-align: right;\">\n",
              "      <th></th>\n",
              "      <th>Country</th>\n",
              "      <th>CountryCode</th>\n",
              "      <th>Province</th>\n",
              "      <th>City</th>\n",
              "      <th>CityCode</th>\n",
              "      <th>Lat</th>\n",
              "      <th>Lon</th>\n",
              "      <th>Confirmed</th>\n",
              "      <th>Deaths</th>\n",
              "      <th>Recovered</th>\n",
              "      <th>Active</th>\n",
              "      <th>Date</th>\n",
              "    </tr>\n",
              "  </thead>\n",
              "  <tbody>\n",
              "    <tr>\n",
              "      <th>0</th>\n",
              "      <td>Afghanistan</td>\n",
              "      <td>AF</td>\n",
              "      <td>NaN</td>\n",
              "      <td>NaN</td>\n",
              "      <td>NaN</td>\n",
              "      <td>33.94</td>\n",
              "      <td>67.71</td>\n",
              "      <td>0</td>\n",
              "      <td>0</td>\n",
              "      <td>0</td>\n",
              "      <td>0</td>\n",
              "      <td>2020-01-22 00:00:00+00:00</td>\n",
              "    </tr>\n",
              "    <tr>\n",
              "      <th>1</th>\n",
              "      <td>Afghanistan</td>\n",
              "      <td>AF</td>\n",
              "      <td>NaN</td>\n",
              "      <td>NaN</td>\n",
              "      <td>NaN</td>\n",
              "      <td>33.94</td>\n",
              "      <td>67.71</td>\n",
              "      <td>0</td>\n",
              "      <td>0</td>\n",
              "      <td>0</td>\n",
              "      <td>0</td>\n",
              "      <td>2020-01-23 00:00:00+00:00</td>\n",
              "    </tr>\n",
              "    <tr>\n",
              "      <th>2</th>\n",
              "      <td>Afghanistan</td>\n",
              "      <td>AF</td>\n",
              "      <td>NaN</td>\n",
              "      <td>NaN</td>\n",
              "      <td>NaN</td>\n",
              "      <td>33.94</td>\n",
              "      <td>67.71</td>\n",
              "      <td>0</td>\n",
              "      <td>0</td>\n",
              "      <td>0</td>\n",
              "      <td>0</td>\n",
              "      <td>2020-01-24 00:00:00+00:00</td>\n",
              "    </tr>\n",
              "    <tr>\n",
              "      <th>3</th>\n",
              "      <td>Afghanistan</td>\n",
              "      <td>AF</td>\n",
              "      <td>NaN</td>\n",
              "      <td>NaN</td>\n",
              "      <td>NaN</td>\n",
              "      <td>33.94</td>\n",
              "      <td>67.71</td>\n",
              "      <td>0</td>\n",
              "      <td>0</td>\n",
              "      <td>0</td>\n",
              "      <td>0</td>\n",
              "      <td>2020-01-25 00:00:00+00:00</td>\n",
              "    </tr>\n",
              "    <tr>\n",
              "      <th>4</th>\n",
              "      <td>Afghanistan</td>\n",
              "      <td>AF</td>\n",
              "      <td>NaN</td>\n",
              "      <td>NaN</td>\n",
              "      <td>NaN</td>\n",
              "      <td>33.94</td>\n",
              "      <td>67.71</td>\n",
              "      <td>0</td>\n",
              "      <td>0</td>\n",
              "      <td>0</td>\n",
              "      <td>0</td>\n",
              "      <td>2020-01-26 00:00:00+00:00</td>\n",
              "    </tr>\n",
              "  </tbody>\n",
              "</table>\n",
              "</div>"
            ],
            "text/plain": [
              "       Country CountryCode  ... Active                       Date\n",
              "0  Afghanistan          AF  ...      0  2020-01-22 00:00:00+00:00\n",
              "1  Afghanistan          AF  ...      0  2020-01-23 00:00:00+00:00\n",
              "2  Afghanistan          AF  ...      0  2020-01-24 00:00:00+00:00\n",
              "3  Afghanistan          AF  ...      0  2020-01-25 00:00:00+00:00\n",
              "4  Afghanistan          AF  ...      0  2020-01-26 00:00:00+00:00\n",
              "\n",
              "[5 rows x 12 columns]"
            ]
          },
          "metadata": {
            "tags": []
          },
          "execution_count": 68
        }
      ]
    },
    {
      "cell_type": "markdown",
      "metadata": {
        "id": "EGi6n1yTIeC6",
        "colab_type": "text"
      },
      "source": [
        "## ---------------------------------------------------------------------------------------\n",
        "## Cleaning the Coronavirus dataframe\n",
        "## ---------------------------------------------------------------------------------------"
      ]
    },
    {
      "cell_type": "code",
      "metadata": {
        "id": "1elxl-CKIeC7",
        "colab_type": "code",
        "colab": {
          "base_uri": "https://localhost:8080/",
          "height": 204
        },
        "outputId": "479fc83e-6b31-4db5-8688-0c07a9517a31"
      },
      "source": [
        "# Dropping columns that are not needed\n",
        "corona_df.drop(['Province', 'City', 'CityCode', 'Lat', 'Lon', 'CountryCode'], axis=1, inplace=True)\n",
        "\n",
        "# Converting the Date column from float to datetime data-type\n",
        "corona_df['Date'] =  pd.to_datetime(corona_df['Date'])\n",
        "corona_df.Date = corona_df.Date.dt.date\n",
        "corona_df['Date'] =  pd.to_datetime(corona_df['Date'])\n",
        "corona_df.head()"
      ],
      "execution_count": null,
      "outputs": [
        {
          "output_type": "execute_result",
          "data": {
            "text/html": [
              "<div>\n",
              "<style scoped>\n",
              "    .dataframe tbody tr th:only-of-type {\n",
              "        vertical-align: middle;\n",
              "    }\n",
              "\n",
              "    .dataframe tbody tr th {\n",
              "        vertical-align: top;\n",
              "    }\n",
              "\n",
              "    .dataframe thead th {\n",
              "        text-align: right;\n",
              "    }\n",
              "</style>\n",
              "<table border=\"1\" class=\"dataframe\">\n",
              "  <thead>\n",
              "    <tr style=\"text-align: right;\">\n",
              "      <th></th>\n",
              "      <th>Country</th>\n",
              "      <th>Confirmed</th>\n",
              "      <th>Deaths</th>\n",
              "      <th>Recovered</th>\n",
              "      <th>Active</th>\n",
              "      <th>Date</th>\n",
              "    </tr>\n",
              "  </thead>\n",
              "  <tbody>\n",
              "    <tr>\n",
              "      <th>0</th>\n",
              "      <td>Afghanistan</td>\n",
              "      <td>0</td>\n",
              "      <td>0</td>\n",
              "      <td>0</td>\n",
              "      <td>0</td>\n",
              "      <td>2020-01-22</td>\n",
              "    </tr>\n",
              "    <tr>\n",
              "      <th>1</th>\n",
              "      <td>Afghanistan</td>\n",
              "      <td>0</td>\n",
              "      <td>0</td>\n",
              "      <td>0</td>\n",
              "      <td>0</td>\n",
              "      <td>2020-01-23</td>\n",
              "    </tr>\n",
              "    <tr>\n",
              "      <th>2</th>\n",
              "      <td>Afghanistan</td>\n",
              "      <td>0</td>\n",
              "      <td>0</td>\n",
              "      <td>0</td>\n",
              "      <td>0</td>\n",
              "      <td>2020-01-24</td>\n",
              "    </tr>\n",
              "    <tr>\n",
              "      <th>3</th>\n",
              "      <td>Afghanistan</td>\n",
              "      <td>0</td>\n",
              "      <td>0</td>\n",
              "      <td>0</td>\n",
              "      <td>0</td>\n",
              "      <td>2020-01-25</td>\n",
              "    </tr>\n",
              "    <tr>\n",
              "      <th>4</th>\n",
              "      <td>Afghanistan</td>\n",
              "      <td>0</td>\n",
              "      <td>0</td>\n",
              "      <td>0</td>\n",
              "      <td>0</td>\n",
              "      <td>2020-01-26</td>\n",
              "    </tr>\n",
              "  </tbody>\n",
              "</table>\n",
              "</div>"
            ],
            "text/plain": [
              "       Country  Confirmed  Deaths  Recovered  Active       Date\n",
              "0  Afghanistan          0       0          0       0 2020-01-22\n",
              "1  Afghanistan          0       0          0       0 2020-01-23\n",
              "2  Afghanistan          0       0          0       0 2020-01-24\n",
              "3  Afghanistan          0       0          0       0 2020-01-25\n",
              "4  Afghanistan          0       0          0       0 2020-01-26"
            ]
          },
          "metadata": {
            "tags": []
          },
          "execution_count": 11
        }
      ]
    },
    {
      "cell_type": "code",
      "metadata": {
        "id": "xkeccRRdIeC_",
        "colab_type": "code",
        "colab": {
          "base_uri": "https://localhost:8080/",
          "height": 238
        },
        "outputId": "6540b000-9a23-4e4f-92ae-c0e1831b1954"
      },
      "source": [
        "corona_df.info()"
      ],
      "execution_count": null,
      "outputs": [
        {
          "output_type": "stream",
          "text": [
            "<class 'pandas.core.frame.DataFrame'>\n",
            "RangeIndex: 513336 entries, 0 to 513335\n",
            "Data columns (total 6 columns):\n",
            " #   Column     Non-Null Count   Dtype         \n",
            "---  ------     --------------   -----         \n",
            " 0   Country    513336 non-null  object        \n",
            " 1   Confirmed  513336 non-null  int64         \n",
            " 2   Deaths     513336 non-null  int64         \n",
            " 3   Recovered  513336 non-null  int64         \n",
            " 4   Active     513336 non-null  int64         \n",
            " 5   Date       513336 non-null  datetime64[ns]\n",
            "dtypes: datetime64[ns](1), int64(4), object(1)\n",
            "memory usage: 23.5+ MB\n"
          ],
          "name": "stdout"
        }
      ]
    },
    {
      "cell_type": "code",
      "metadata": {
        "id": "Chva96IDIeDP",
        "colab_type": "code",
        "colab": {}
      },
      "source": [
        "# Some countries, such as China, are split into different provinces/states. \n",
        "# Since we just want the total number of cases per country, we get the sum for each country at each date:\n",
        "sum_df = corona_df.groupby(['Country', 'Date'], as_index=False).sum()"
      ],
      "execution_count": null,
      "outputs": []
    },
    {
      "cell_type": "code",
      "metadata": {
        "id": "FNyqkStLIeDa",
        "colab_type": "code",
        "colab": {
          "base_uri": "https://localhost:8080/",
          "height": 204
        },
        "outputId": "f9b3e8db-7c0a-4060-8064-593dbbf1cbdd"
      },
      "source": [
        "sum_df.head()"
      ],
      "execution_count": null,
      "outputs": [
        {
          "output_type": "execute_result",
          "data": {
            "text/html": [
              "<div>\n",
              "<style scoped>\n",
              "    .dataframe tbody tr th:only-of-type {\n",
              "        vertical-align: middle;\n",
              "    }\n",
              "\n",
              "    .dataframe tbody tr th {\n",
              "        vertical-align: top;\n",
              "    }\n",
              "\n",
              "    .dataframe thead th {\n",
              "        text-align: right;\n",
              "    }\n",
              "</style>\n",
              "<table border=\"1\" class=\"dataframe\">\n",
              "  <thead>\n",
              "    <tr style=\"text-align: right;\">\n",
              "      <th></th>\n",
              "      <th>Country</th>\n",
              "      <th>Date</th>\n",
              "      <th>Confirmed</th>\n",
              "      <th>Deaths</th>\n",
              "      <th>Recovered</th>\n",
              "      <th>Active</th>\n",
              "    </tr>\n",
              "  </thead>\n",
              "  <tbody>\n",
              "    <tr>\n",
              "      <th>0</th>\n",
              "      <td>Afghanistan</td>\n",
              "      <td>2020-01-22</td>\n",
              "      <td>0</td>\n",
              "      <td>0</td>\n",
              "      <td>0</td>\n",
              "      <td>0</td>\n",
              "    </tr>\n",
              "    <tr>\n",
              "      <th>1</th>\n",
              "      <td>Afghanistan</td>\n",
              "      <td>2020-01-23</td>\n",
              "      <td>0</td>\n",
              "      <td>0</td>\n",
              "      <td>0</td>\n",
              "      <td>0</td>\n",
              "    </tr>\n",
              "    <tr>\n",
              "      <th>2</th>\n",
              "      <td>Afghanistan</td>\n",
              "      <td>2020-01-24</td>\n",
              "      <td>0</td>\n",
              "      <td>0</td>\n",
              "      <td>0</td>\n",
              "      <td>0</td>\n",
              "    </tr>\n",
              "    <tr>\n",
              "      <th>3</th>\n",
              "      <td>Afghanistan</td>\n",
              "      <td>2020-01-25</td>\n",
              "      <td>0</td>\n",
              "      <td>0</td>\n",
              "      <td>0</td>\n",
              "      <td>0</td>\n",
              "    </tr>\n",
              "    <tr>\n",
              "      <th>4</th>\n",
              "      <td>Afghanistan</td>\n",
              "      <td>2020-01-26</td>\n",
              "      <td>0</td>\n",
              "      <td>0</td>\n",
              "      <td>0</td>\n",
              "      <td>0</td>\n",
              "    </tr>\n",
              "  </tbody>\n",
              "</table>\n",
              "</div>"
            ],
            "text/plain": [
              "       Country       Date  Confirmed  Deaths  Recovered  Active\n",
              "0  Afghanistan 2020-01-22          0       0          0       0\n",
              "1  Afghanistan 2020-01-23          0       0          0       0\n",
              "2  Afghanistan 2020-01-24          0       0          0       0\n",
              "3  Afghanistan 2020-01-25          0       0          0       0\n",
              "4  Afghanistan 2020-01-26          0       0          0       0"
            ]
          },
          "metadata": {
            "tags": []
          },
          "execution_count": 14
        }
      ]
    },
    {
      "cell_type": "code",
      "metadata": {
        "id": "Nwt6EcWRIeDd",
        "colab_type": "code",
        "colab": {
          "base_uri": "https://localhost:8080/",
          "height": 238
        },
        "outputId": "9d84a1b4-4713-4626-f296-8517fbf27676"
      },
      "source": [
        "sum_df.info()"
      ],
      "execution_count": null,
      "outputs": [
        {
          "output_type": "stream",
          "text": [
            "<class 'pandas.core.frame.DataFrame'>\n",
            "Int64Index: 27156 entries, 0 to 27155\n",
            "Data columns (total 6 columns):\n",
            " #   Column     Non-Null Count  Dtype         \n",
            "---  ------     --------------  -----         \n",
            " 0   Country    27156 non-null  object        \n",
            " 1   Date       27156 non-null  datetime64[ns]\n",
            " 2   Confirmed  27156 non-null  int64         \n",
            " 3   Deaths     27156 non-null  int64         \n",
            " 4   Recovered  27156 non-null  int64         \n",
            " 5   Active     27156 non-null  int64         \n",
            "dtypes: datetime64[ns](1), int64(4), object(1)\n",
            "memory usage: 1.5+ MB\n"
          ],
          "name": "stdout"
        }
      ]
    },
    {
      "cell_type": "code",
      "metadata": {
        "id": "DaMVtGepIeDi",
        "colab_type": "code",
        "colab": {}
      },
      "source": [
        ""
      ],
      "execution_count": null,
      "outputs": []
    },
    {
      "cell_type": "code",
      "metadata": {
        "id": "r-1gr63pIeDr",
        "colab_type": "code",
        "colab": {}
      },
      "source": [
        ""
      ],
      "execution_count": null,
      "outputs": []
    },
    {
      "cell_type": "code",
      "metadata": {
        "id": "cSliT0r9IeDv",
        "colab_type": "code",
        "colab": {}
      },
      "source": [
        ""
      ],
      "execution_count": null,
      "outputs": []
    },
    {
      "cell_type": "markdown",
      "metadata": {
        "id": "YgqkxOmVIeDz",
        "colab_type": "text"
      },
      "source": [
        "## ---------------------------------------------------------------------------------------\n",
        "## Extracting the Dates\n",
        "## ---------------------------------------------------------------------------------------"
      ]
    },
    {
      "cell_type": "code",
      "metadata": {
        "id": "PCSZPs5EIeD5",
        "colab_type": "code",
        "colab": {}
      },
      "source": [
        "# Extracting the date column from the dataframe\n",
        "# This will come in handy later when merging dataframes on the date column, and when looping over the date to plot the map\n",
        "\n",
        "date_list = pd.DataFrame(sum_df.Date.unique())\n",
        "date_list.rename(columns = {0:'Date'}, inplace = True)\n",
        "date_list = date_list.loc[date_list.Date <= sum_df.Date.max()]\n",
        "date_list.reset_index(drop=True, inplace=True)\n",
        "date_list.to_csv('date_list.csv', encoding='utf-8', index=False)"
      ],
      "execution_count": null,
      "outputs": []
    },
    {
      "cell_type": "code",
      "metadata": {
        "id": "a_ltPapPIeD9",
        "colab_type": "code",
        "colab": {}
      },
      "source": [
        ""
      ],
      "execution_count": null,
      "outputs": []
    },
    {
      "cell_type": "code",
      "metadata": {
        "id": "BQQF-8C4IeEC",
        "colab_type": "code",
        "colab": {}
      },
      "source": [
        ""
      ],
      "execution_count": null,
      "outputs": []
    },
    {
      "cell_type": "code",
      "metadata": {
        "id": "IJukY_K5IeEN",
        "colab_type": "code",
        "colab": {}
      },
      "source": [
        ""
      ],
      "execution_count": null,
      "outputs": []
    },
    {
      "cell_type": "markdown",
      "metadata": {
        "id": "M2_Tl-KzIeER",
        "colab_type": "text"
      },
      "source": [
        "## ---------------------------------------------------------------------------------------\n",
        "## Reading and cleaning the shape file\n",
        "## ---------------------------------------------------------------------------------------"
      ]
    },
    {
      "cell_type": "code",
      "metadata": {
        "id": "1DVfuyonIeES",
        "colab_type": "code",
        "colab": {}
      },
      "source": [
        "# Shape file for plotting world maps\n",
        "shape_file = gpd.read_file('shape_files/Countries_WGS84.shp')"
      ],
      "execution_count": null,
      "outputs": []
    },
    {
      "cell_type": "code",
      "metadata": {
        "id": "-GFm3WUmIeEd",
        "colab_type": "code",
        "colab": {
          "base_uri": "https://localhost:8080/",
          "height": 204
        },
        "outputId": "0dd56cd1-4226-4818-ec44-ef225783124b"
      },
      "source": [
        "shape_file.head()"
      ],
      "execution_count": null,
      "outputs": [
        {
          "output_type": "execute_result",
          "data": {
            "text/html": [
              "<div>\n",
              "<style scoped>\n",
              "    .dataframe tbody tr th:only-of-type {\n",
              "        vertical-align: middle;\n",
              "    }\n",
              "\n",
              "    .dataframe tbody tr th {\n",
              "        vertical-align: top;\n",
              "    }\n",
              "\n",
              "    .dataframe thead th {\n",
              "        text-align: right;\n",
              "    }\n",
              "</style>\n",
              "<table border=\"1\" class=\"dataframe\">\n",
              "  <thead>\n",
              "    <tr style=\"text-align: right;\">\n",
              "      <th></th>\n",
              "      <th>OBJECTID</th>\n",
              "      <th>CNTRY_NAME</th>\n",
              "      <th>geometry</th>\n",
              "    </tr>\n",
              "  </thead>\n",
              "  <tbody>\n",
              "    <tr>\n",
              "      <th>0</th>\n",
              "      <td>1</td>\n",
              "      <td>Aruba</td>\n",
              "      <td>POLYGON ((-69.88223 12.41111, -69.94695 12.436...</td>\n",
              "    </tr>\n",
              "    <tr>\n",
              "      <th>1</th>\n",
              "      <td>2</td>\n",
              "      <td>Antigua and Barbuda</td>\n",
              "      <td>MULTIPOLYGON (((-61.73889 17.54055, -61.75195 ...</td>\n",
              "    </tr>\n",
              "    <tr>\n",
              "      <th>2</th>\n",
              "      <td>3</td>\n",
              "      <td>Afghanistan</td>\n",
              "      <td>POLYGON ((61.27656 35.60725, 61.29638 35.62853...</td>\n",
              "    </tr>\n",
              "    <tr>\n",
              "      <th>3</th>\n",
              "      <td>4</td>\n",
              "      <td>Algeria</td>\n",
              "      <td>POLYGON ((-5.15213 30.18047, -5.13917 30.19236...</td>\n",
              "    </tr>\n",
              "    <tr>\n",
              "      <th>4</th>\n",
              "      <td>5</td>\n",
              "      <td>Azerbaijan</td>\n",
              "      <td>MULTIPOLYGON (((45.02583 41.03055, 45.00999 41...</td>\n",
              "    </tr>\n",
              "  </tbody>\n",
              "</table>\n",
              "</div>"
            ],
            "text/plain": [
              "   OBJECTID  ...                                           geometry\n",
              "0         1  ...  POLYGON ((-69.88223 12.41111, -69.94695 12.436...\n",
              "1         2  ...  MULTIPOLYGON (((-61.73889 17.54055, -61.75195 ...\n",
              "2         3  ...  POLYGON ((61.27656 35.60725, 61.29638 35.62853...\n",
              "3         4  ...  POLYGON ((-5.15213 30.18047, -5.13917 30.19236...\n",
              "4         5  ...  MULTIPOLYGON (((45.02583 41.03055, 45.00999 41...\n",
              "\n",
              "[5 rows x 3 columns]"
            ]
          },
          "metadata": {
            "tags": []
          },
          "execution_count": 20
        }
      ]
    },
    {
      "cell_type": "code",
      "metadata": {
        "id": "wJOB2fWiIeEi",
        "colab_type": "code",
        "colab": {}
      },
      "source": [
        "# Dropping columns that are not needed\n",
        "shape_file.drop('OBJECTID', axis=1, inplace=True)\n",
        "\n",
        "# Renaming columns\n",
        "shape_file.rename(columns = {'CNTRY_NAME':'Country'},\n",
        "               inplace = True)"
      ],
      "execution_count": null,
      "outputs": []
    },
    {
      "cell_type": "code",
      "metadata": {
        "id": "0aWo2Xi-IeEu",
        "colab_type": "code",
        "colab": {
          "base_uri": "https://localhost:8080/",
          "height": 204
        },
        "outputId": "7b10c73d-b37a-43f8-b422-e9ac6b035c0c"
      },
      "source": [
        "shape_file.head()"
      ],
      "execution_count": null,
      "outputs": [
        {
          "output_type": "execute_result",
          "data": {
            "text/html": [
              "<div>\n",
              "<style scoped>\n",
              "    .dataframe tbody tr th:only-of-type {\n",
              "        vertical-align: middle;\n",
              "    }\n",
              "\n",
              "    .dataframe tbody tr th {\n",
              "        vertical-align: top;\n",
              "    }\n",
              "\n",
              "    .dataframe thead th {\n",
              "        text-align: right;\n",
              "    }\n",
              "</style>\n",
              "<table border=\"1\" class=\"dataframe\">\n",
              "  <thead>\n",
              "    <tr style=\"text-align: right;\">\n",
              "      <th></th>\n",
              "      <th>Country</th>\n",
              "      <th>geometry</th>\n",
              "    </tr>\n",
              "  </thead>\n",
              "  <tbody>\n",
              "    <tr>\n",
              "      <th>0</th>\n",
              "      <td>Aruba</td>\n",
              "      <td>POLYGON ((-69.88223 12.41111, -69.94695 12.436...</td>\n",
              "    </tr>\n",
              "    <tr>\n",
              "      <th>1</th>\n",
              "      <td>Antigua and Barbuda</td>\n",
              "      <td>MULTIPOLYGON (((-61.73889 17.54055, -61.75195 ...</td>\n",
              "    </tr>\n",
              "    <tr>\n",
              "      <th>2</th>\n",
              "      <td>Afghanistan</td>\n",
              "      <td>POLYGON ((61.27656 35.60725, 61.29638 35.62853...</td>\n",
              "    </tr>\n",
              "    <tr>\n",
              "      <th>3</th>\n",
              "      <td>Algeria</td>\n",
              "      <td>POLYGON ((-5.15213 30.18047, -5.13917 30.19236...</td>\n",
              "    </tr>\n",
              "    <tr>\n",
              "      <th>4</th>\n",
              "      <td>Azerbaijan</td>\n",
              "      <td>MULTIPOLYGON (((45.02583 41.03055, 45.00999 41...</td>\n",
              "    </tr>\n",
              "  </tbody>\n",
              "</table>\n",
              "</div>"
            ],
            "text/plain": [
              "               Country                                           geometry\n",
              "0                Aruba  POLYGON ((-69.88223 12.41111, -69.94695 12.436...\n",
              "1  Antigua and Barbuda  MULTIPOLYGON (((-61.73889 17.54055, -61.75195 ...\n",
              "2          Afghanistan  POLYGON ((61.27656 35.60725, 61.29638 35.62853...\n",
              "3              Algeria  POLYGON ((-5.15213 30.18047, -5.13917 30.19236...\n",
              "4           Azerbaijan  MULTIPOLYGON (((45.02583 41.03055, 45.00999 41..."
            ]
          },
          "metadata": {
            "tags": []
          },
          "execution_count": 22
        }
      ]
    },
    {
      "cell_type": "code",
      "metadata": {
        "id": "ThOX_MgjIeEy",
        "colab_type": "code",
        "colab": {
          "base_uri": "https://localhost:8080/",
          "height": 170
        },
        "outputId": "8dadc0c4-22f5-4e1f-eea9-4c4f5a4612de"
      },
      "source": [
        "shape_file.info()"
      ],
      "execution_count": null,
      "outputs": [
        {
          "output_type": "stream",
          "text": [
            "<class 'geopandas.geodataframe.GeoDataFrame'>\n",
            "RangeIndex: 251 entries, 0 to 250\n",
            "Data columns (total 2 columns):\n",
            " #   Column    Non-Null Count  Dtype   \n",
            "---  ------    --------------  -----   \n",
            " 0   Country   251 non-null    object  \n",
            " 1   geometry  251 non-null    geometry\n",
            "dtypes: geometry(1), object(1)\n",
            "memory usage: 4.0+ KB\n"
          ],
          "name": "stdout"
        }
      ]
    },
    {
      "cell_type": "code",
      "metadata": {
        "id": "tdx1iYvBIeE1",
        "colab_type": "code",
        "colab": {}
      },
      "source": [
        ""
      ],
      "execution_count": null,
      "outputs": []
    },
    {
      "cell_type": "code",
      "metadata": {
        "id": "OnJJqiByIeE9",
        "colab_type": "code",
        "colab": {}
      },
      "source": [
        ""
      ],
      "execution_count": null,
      "outputs": []
    },
    {
      "cell_type": "code",
      "metadata": {
        "id": "z_-77N1SIeFA",
        "colab_type": "code",
        "colab": {}
      },
      "source": [
        ""
      ],
      "execution_count": null,
      "outputs": []
    },
    {
      "cell_type": "markdown",
      "metadata": {
        "id": "GiMzEkgqIeFC",
        "colab_type": "text"
      },
      "source": [
        "## ---------------------------------------------------------------------------------------\n",
        "## Comparing and renaming the country names in Coronavirus dataframe\n",
        "## ---------------------------------------------------------------------------------------"
      ]
    },
    {
      "cell_type": "code",
      "metadata": {
        "id": "Mzd9jm9aIeFD",
        "colab_type": "code",
        "colab": {}
      },
      "source": [
        "# Making the country names match between the dataframe and the shapefile\n",
        "\n",
        "\n",
        "sum_df = sum_df.replace({'Country' : 'Bahamas'}, 'Bahamas, The')\n",
        "sum_df = sum_df.replace({'Country' : 'Belarus'}, 'Byelarus')\n",
        "sum_df = sum_df.replace({'Country' : 'Brunei Darussalam'}, 'Brunei')\n",
        "sum_df = sum_df.replace({'Country' : 'Congo (Kinshasa)'}, 'Congo')\n",
        "sum_df = sum_df.replace({'Country' : 'Gambia'}, 'Gambia, The')\n",
        "sum_df = sum_df.replace({'Country' : 'Iran, Islamic Republic of'}, 'Iran')\n",
        "sum_df = sum_df.replace({'Country' : 'Korea (South)'}, 'South Korea')\n",
        "sum_df = sum_df.replace({'Country' : 'Lao PDR'}, 'Laos')\n",
        "sum_df = sum_df.replace({'Country' : 'Macedonia, Republic of'}, 'Macedonia')\n",
        "sum_df = sum_df.replace({'Country' : 'Myanmar'}, 'Myanmar (Burma)')\n",
        "sum_df = sum_df.replace({'Country' : 'Russian Federation'}, 'Russia')\n",
        "sum_df = sum_df.replace({'Country' : 'Saint Kitts and Nevis'}, 'St. Kitts and Nevis')\n",
        "sum_df = sum_df.replace({'Country' : 'Saint Lucia'}, 'St. Lucia')\n",
        "sum_df = sum_df.replace({'Country' : 'Saint Vincent and Grenadines'}, 'St. Vincent and Grenadines')\n",
        "sum_df = sum_df.replace({'Country' : 'Syrian Arab Republic (Syria)'}, 'Syria')\n",
        "sum_df = sum_df.replace({'Country' : 'Taiwan, Republic of China'}, 'Taiwan')\n",
        "sum_df = sum_df.replace({'Country' : 'United States of America'}, 'United States')\n",
        "sum_df = sum_df.replace({'Country' : 'Venexuela (Bolivarian Republic)'}, 'Venezuela')\n",
        "sum_df = sum_df.replace({'Country' : 'Viet Nam'}, 'Vietnam')"
      ],
      "execution_count": null,
      "outputs": []
    },
    {
      "cell_type": "code",
      "metadata": {
        "id": "5stTCWXvIeFJ",
        "colab_type": "code",
        "colab": {}
      },
      "source": [
        ""
      ],
      "execution_count": null,
      "outputs": []
    },
    {
      "cell_type": "code",
      "metadata": {
        "id": "55GF6q1MIeFN",
        "colab_type": "code",
        "colab": {}
      },
      "source": [
        ""
      ],
      "execution_count": null,
      "outputs": []
    },
    {
      "cell_type": "code",
      "metadata": {
        "id": "RSRxL23mIeFQ",
        "colab_type": "code",
        "colab": {}
      },
      "source": [
        ""
      ],
      "execution_count": null,
      "outputs": []
    },
    {
      "cell_type": "markdown",
      "metadata": {
        "id": "veG5wt5YIeFT",
        "colab_type": "text"
      },
      "source": [
        "## ---------------------------------------------------------------------------------------\n",
        "## Extracting the country names\n",
        "## ---------------------------------------------------------------------------------------"
      ]
    },
    {
      "cell_type": "code",
      "metadata": {
        "id": "NkRu6sKrIeFT",
        "colab_type": "code",
        "colab": {}
      },
      "source": [
        "# Extracting the country column from the dataframe\n",
        "# This will come in handy later when merging dataframes on the country column\n",
        "\n",
        "country_list = pd.DataFrame(shape_file.Country.unique())\n",
        "country_list.rename(columns = {0:'Country'}, inplace = True) \n",
        "country_list.to_csv('country_list.csv', encoding='utf-8', index=False)"
      ],
      "execution_count": null,
      "outputs": []
    },
    {
      "cell_type": "code",
      "metadata": {
        "id": "tnEolwEAIeFf",
        "colab_type": "code",
        "colab": {}
      },
      "source": [
        ""
      ],
      "execution_count": null,
      "outputs": []
    },
    {
      "cell_type": "code",
      "metadata": {
        "id": "9ngjit4zIeFi",
        "colab_type": "code",
        "colab": {}
      },
      "source": [
        ""
      ],
      "execution_count": null,
      "outputs": []
    },
    {
      "cell_type": "code",
      "metadata": {
        "id": "8i2zNNyJIeFm",
        "colab_type": "code",
        "colab": {}
      },
      "source": [
        ""
      ],
      "execution_count": null,
      "outputs": []
    },
    {
      "cell_type": "markdown",
      "metadata": {
        "id": "Q6drZZn_IeFs",
        "colab_type": "text"
      },
      "source": [
        "## ---------------------------------------------------------------------------------------------\n",
        "## Merging the Dates and Countries to form one single dataframe with all Countries and all Dates\n",
        "## ---------------------------------------------------------------------------------------------"
      ]
    },
    {
      "cell_type": "code",
      "metadata": {
        "id": "S_YHgpa8IeFu",
        "colab_type": "code",
        "colab": {}
      },
      "source": [
        "# Merging the date and country dataframes such that the date from January to April is available for EACH country\n",
        "\n",
        "def cartesian_product_simplified(left, right):\n",
        "    la, lb = len(left), len(right)\n",
        "    ia2, ib2 = np.broadcast_arrays(*np.ogrid[:la,:lb])\n",
        "\n",
        "    return pd.DataFrame(\n",
        "        np.column_stack([left.values[ia2.ravel()], right.values[ib2.ravel()]]))\n",
        "\n",
        "country_date_list = cartesian_product_simplified(country_list, date_list)"
      ],
      "execution_count": null,
      "outputs": []
    },
    {
      "cell_type": "code",
      "metadata": {
        "id": "szHvvJU9IeF2",
        "colab_type": "code",
        "colab": {
          "base_uri": "https://localhost:8080/",
          "height": 170
        },
        "outputId": "f52a8c76-2d6d-4254-e1ff-aa9ebb834d86"
      },
      "source": [
        "country_date_list.info()"
      ],
      "execution_count": null,
      "outputs": [
        {
          "output_type": "stream",
          "text": [
            "<class 'pandas.core.frame.DataFrame'>\n",
            "RangeIndex: 36646 entries, 0 to 36645\n",
            "Data columns (total 2 columns):\n",
            " #   Column  Non-Null Count  Dtype \n",
            "---  ------  --------------  ----- \n",
            " 0   0       36646 non-null  object\n",
            " 1   1       36646 non-null  object\n",
            "dtypes: object(2)\n",
            "memory usage: 572.7+ KB\n"
          ],
          "name": "stdout"
        }
      ]
    },
    {
      "cell_type": "code",
      "metadata": {
        "id": "kVNUbLdHIeF9",
        "colab_type": "code",
        "colab": {}
      },
      "source": [
        "# Renaming Columns\n",
        "country_date_list.rename(columns = {0:'Country', 1:'Date'},\n",
        "                          inplace = True)  "
      ],
      "execution_count": null,
      "outputs": []
    },
    {
      "cell_type": "code",
      "metadata": {
        "id": "t0pYGNYnIeGD",
        "colab_type": "code",
        "colab": {
          "base_uri": "https://localhost:8080/",
          "height": 170
        },
        "outputId": "8a952788-2491-4aa5-eb2b-14bd115b1732"
      },
      "source": [
        "country_date_list.info()"
      ],
      "execution_count": null,
      "outputs": [
        {
          "output_type": "stream",
          "text": [
            "<class 'pandas.core.frame.DataFrame'>\n",
            "RangeIndex: 36646 entries, 0 to 36645\n",
            "Data columns (total 2 columns):\n",
            " #   Column   Non-Null Count  Dtype \n",
            "---  ------   --------------  ----- \n",
            " 0   Country  36646 non-null  object\n",
            " 1   Date     36646 non-null  object\n",
            "dtypes: object(2)\n",
            "memory usage: 572.7+ KB\n"
          ],
          "name": "stdout"
        }
      ]
    },
    {
      "cell_type": "code",
      "metadata": {
        "id": "Ol_iiXGvIeGG",
        "colab_type": "code",
        "colab": {}
      },
      "source": [
        "# Coverting from float to datetime\n",
        "country_date_list['Date'] = pd.to_datetime(country_date_list['Date'])"
      ],
      "execution_count": null,
      "outputs": []
    },
    {
      "cell_type": "code",
      "metadata": {
        "id": "66sSkdB5IeGM",
        "colab_type": "code",
        "colab": {
          "base_uri": "https://localhost:8080/",
          "height": 204
        },
        "outputId": "8f064296-668c-4d9c-82f1-d2766b21592c"
      },
      "source": [
        "country_date_list.head()"
      ],
      "execution_count": null,
      "outputs": [
        {
          "output_type": "execute_result",
          "data": {
            "text/html": [
              "<div>\n",
              "<style scoped>\n",
              "    .dataframe tbody tr th:only-of-type {\n",
              "        vertical-align: middle;\n",
              "    }\n",
              "\n",
              "    .dataframe tbody tr th {\n",
              "        vertical-align: top;\n",
              "    }\n",
              "\n",
              "    .dataframe thead th {\n",
              "        text-align: right;\n",
              "    }\n",
              "</style>\n",
              "<table border=\"1\" class=\"dataframe\">\n",
              "  <thead>\n",
              "    <tr style=\"text-align: right;\">\n",
              "      <th></th>\n",
              "      <th>Country</th>\n",
              "      <th>Date</th>\n",
              "    </tr>\n",
              "  </thead>\n",
              "  <tbody>\n",
              "    <tr>\n",
              "      <th>0</th>\n",
              "      <td>Aruba</td>\n",
              "      <td>2020-01-22</td>\n",
              "    </tr>\n",
              "    <tr>\n",
              "      <th>1</th>\n",
              "      <td>Aruba</td>\n",
              "      <td>2020-01-23</td>\n",
              "    </tr>\n",
              "    <tr>\n",
              "      <th>2</th>\n",
              "      <td>Aruba</td>\n",
              "      <td>2020-01-24</td>\n",
              "    </tr>\n",
              "    <tr>\n",
              "      <th>3</th>\n",
              "      <td>Aruba</td>\n",
              "      <td>2020-01-25</td>\n",
              "    </tr>\n",
              "    <tr>\n",
              "      <th>4</th>\n",
              "      <td>Aruba</td>\n",
              "      <td>2020-01-26</td>\n",
              "    </tr>\n",
              "  </tbody>\n",
              "</table>\n",
              "</div>"
            ],
            "text/plain": [
              "  Country       Date\n",
              "0   Aruba 2020-01-22\n",
              "1   Aruba 2020-01-23\n",
              "2   Aruba 2020-01-24\n",
              "3   Aruba 2020-01-25\n",
              "4   Aruba 2020-01-26"
            ]
          },
          "metadata": {
            "tags": []
          },
          "execution_count": 76
        }
      ]
    },
    {
      "cell_type": "code",
      "metadata": {
        "id": "wgVUYAhcIeGQ",
        "colab_type": "code",
        "colab": {}
      },
      "source": [
        "country_date_list.to_csv('country_date_list.csv', encoding='utf-8', index=False)"
      ],
      "execution_count": null,
      "outputs": []
    },
    {
      "cell_type": "code",
      "metadata": {
        "id": "BualUupKIeGS",
        "colab_type": "code",
        "colab": {}
      },
      "source": [
        ""
      ],
      "execution_count": null,
      "outputs": []
    },
    {
      "cell_type": "code",
      "metadata": {
        "id": "FA1kGguKIeGX",
        "colab_type": "code",
        "colab": {}
      },
      "source": [
        ""
      ],
      "execution_count": null,
      "outputs": []
    },
    {
      "cell_type": "code",
      "metadata": {
        "id": "_kI1TOK_IeGe",
        "colab_type": "code",
        "colab": {}
      },
      "source": [
        ""
      ],
      "execution_count": null,
      "outputs": []
    },
    {
      "cell_type": "code",
      "metadata": {
        "id": "UsYq9eyYIeGq",
        "colab_type": "code",
        "colab": {}
      },
      "source": [
        ""
      ],
      "execution_count": null,
      "outputs": []
    },
    {
      "cell_type": "markdown",
      "metadata": {
        "id": "OmlP0V0jIeGy",
        "colab_type": "text"
      },
      "source": [
        "## ---------------------------------------------------------------------------------------\n",
        "## Merging the Coronavirus dataframe and the country-date-dataframe\n",
        "## ---------------------------------------------------------------------------------------"
      ]
    },
    {
      "cell_type": "code",
      "metadata": {
        "id": "0dpdwA6yIeGz",
        "colab_type": "code",
        "colab": {}
      },
      "source": [
        "# Merging the sum_dataframe and the country-date-dataframe, such that:\n",
        "#     1. Only countries that are common in both dataframes are merged\n",
        "#     2. The countries that are present in the country-date-dataframe \n",
        "#        but not in the sum_dataframe are NOT removed - otherwise map for that country will be blank\n",
        "\n",
        "# Also, this way, the countries that didn't have COVID-19 data will still be given dates -- so there will be no null values in the date column, \n",
        "# which is important because the date is the factor that will be looped over\n",
        "# All the null values in countries that didn't have any COVID-19 data can be filled in later\n",
        "\n",
        "merged = pd.merge(country_date_list, sum_df, how='left', left_on=['Country', 'Date'], right_on=['Country', 'Date'])"
      ],
      "execution_count": null,
      "outputs": []
    },
    {
      "cell_type": "code",
      "metadata": {
        "id": "Vfr6H0-QIeG2",
        "colab_type": "code",
        "colab": {
          "base_uri": "https://localhost:8080/",
          "height": 204
        },
        "outputId": "bccca04f-7362-405a-ea83-e8682aeb69fc"
      },
      "source": [
        "merged.head()"
      ],
      "execution_count": null,
      "outputs": [
        {
          "output_type": "execute_result",
          "data": {
            "text/html": [
              "<div>\n",
              "<style scoped>\n",
              "    .dataframe tbody tr th:only-of-type {\n",
              "        vertical-align: middle;\n",
              "    }\n",
              "\n",
              "    .dataframe tbody tr th {\n",
              "        vertical-align: top;\n",
              "    }\n",
              "\n",
              "    .dataframe thead th {\n",
              "        text-align: right;\n",
              "    }\n",
              "</style>\n",
              "<table border=\"1\" class=\"dataframe\">\n",
              "  <thead>\n",
              "    <tr style=\"text-align: right;\">\n",
              "      <th></th>\n",
              "      <th>Country</th>\n",
              "      <th>Date</th>\n",
              "      <th>Confirmed</th>\n",
              "      <th>Deaths</th>\n",
              "      <th>Recovered</th>\n",
              "      <th>Active</th>\n",
              "    </tr>\n",
              "  </thead>\n",
              "  <tbody>\n",
              "    <tr>\n",
              "      <th>0</th>\n",
              "      <td>Aruba</td>\n",
              "      <td>2020-01-22</td>\n",
              "      <td>NaN</td>\n",
              "      <td>NaN</td>\n",
              "      <td>NaN</td>\n",
              "      <td>NaN</td>\n",
              "    </tr>\n",
              "    <tr>\n",
              "      <th>1</th>\n",
              "      <td>Aruba</td>\n",
              "      <td>2020-01-23</td>\n",
              "      <td>NaN</td>\n",
              "      <td>NaN</td>\n",
              "      <td>NaN</td>\n",
              "      <td>NaN</td>\n",
              "    </tr>\n",
              "    <tr>\n",
              "      <th>2</th>\n",
              "      <td>Aruba</td>\n",
              "      <td>2020-01-24</td>\n",
              "      <td>NaN</td>\n",
              "      <td>NaN</td>\n",
              "      <td>NaN</td>\n",
              "      <td>NaN</td>\n",
              "    </tr>\n",
              "    <tr>\n",
              "      <th>3</th>\n",
              "      <td>Aruba</td>\n",
              "      <td>2020-01-25</td>\n",
              "      <td>NaN</td>\n",
              "      <td>NaN</td>\n",
              "      <td>NaN</td>\n",
              "      <td>NaN</td>\n",
              "    </tr>\n",
              "    <tr>\n",
              "      <th>4</th>\n",
              "      <td>Aruba</td>\n",
              "      <td>2020-01-26</td>\n",
              "      <td>NaN</td>\n",
              "      <td>NaN</td>\n",
              "      <td>NaN</td>\n",
              "      <td>NaN</td>\n",
              "    </tr>\n",
              "  </tbody>\n",
              "</table>\n",
              "</div>"
            ],
            "text/plain": [
              "  Country       Date  Confirmed  Deaths  Recovered  Active\n",
              "0   Aruba 2020-01-22        NaN     NaN        NaN     NaN\n",
              "1   Aruba 2020-01-23        NaN     NaN        NaN     NaN\n",
              "2   Aruba 2020-01-24        NaN     NaN        NaN     NaN\n",
              "3   Aruba 2020-01-25        NaN     NaN        NaN     NaN\n",
              "4   Aruba 2020-01-26        NaN     NaN        NaN     NaN"
            ]
          },
          "metadata": {
            "tags": []
          },
          "execution_count": 79
        }
      ]
    },
    {
      "cell_type": "code",
      "metadata": {
        "id": "-UVq1CBkIeG3",
        "colab_type": "code",
        "colab": {
          "base_uri": "https://localhost:8080/",
          "height": 238
        },
        "outputId": "9d8b34f9-ea51-4282-d283-b3cac037bab9"
      },
      "source": [
        "merged.info()"
      ],
      "execution_count": null,
      "outputs": [
        {
          "output_type": "stream",
          "text": [
            "<class 'pandas.core.frame.DataFrame'>\n",
            "Int64Index: 36646 entries, 0 to 36645\n",
            "Data columns (total 6 columns):\n",
            " #   Column     Non-Null Count  Dtype         \n",
            "---  ------     --------------  -----         \n",
            " 0   Country    36646 non-null  object        \n",
            " 1   Date       36646 non-null  datetime64[ns]\n",
            " 2   Confirmed  25842 non-null  float64       \n",
            " 3   Deaths     25842 non-null  float64       \n",
            " 4   Recovered  25842 non-null  float64       \n",
            " 5   Active     25842 non-null  float64       \n",
            "dtypes: datetime64[ns](1), float64(4), object(1)\n",
            "memory usage: 2.0+ MB\n"
          ],
          "name": "stdout"
        }
      ]
    },
    {
      "cell_type": "code",
      "metadata": {
        "id": "pAd4vUaTIeG5",
        "colab_type": "code",
        "colab": {}
      },
      "source": [
        ""
      ],
      "execution_count": null,
      "outputs": []
    },
    {
      "cell_type": "code",
      "metadata": {
        "id": "BG7aVCsgIeG-",
        "colab_type": "code",
        "colab": {}
      },
      "source": [
        ""
      ],
      "execution_count": null,
      "outputs": []
    },
    {
      "cell_type": "markdown",
      "metadata": {
        "id": "qL3NBVLeIeHD",
        "colab_type": "text"
      },
      "source": [
        "## ---------------------------------------------------------------------------------------\n",
        "## Filling null values in the merged dataframe\n",
        "## ---------------------------------------------------------------------------------------"
      ]
    },
    {
      "cell_type": "code",
      "metadata": {
        "id": "uffxaO9FIeHD",
        "colab_type": "code",
        "colab": {
          "base_uri": "https://localhost:8080/",
          "height": 119
        },
        "outputId": "31ac2dc3-bcfc-44b4-a71c-1bc5cf02c108"
      },
      "source": [
        "# Checking the percentage of null values\n",
        "\n",
        "def printNullValues(df):\n",
        "    total = df.isnull().sum().sort_values(ascending = False)\n",
        "    total = total[df.isnull().sum().sort_values(ascending = False) != 0]\n",
        "    percent = total * 100 / len(df)\n",
        "    percent = percent[df.isnull().sum().sort_values(ascending = False) != 0]\n",
        "    concat = pd.concat([total, percent], axis=1, keys=['Total','Percent'])\n",
        "    print (concat)\n",
        "    print ( \"-------------\")\n",
        "    \n",
        "printNullValues(merged)"
      ],
      "execution_count": null,
      "outputs": [
        {
          "output_type": "stream",
          "text": [
            "           Total    Percent\n",
            "Active     10804  29.482072\n",
            "Recovered  10804  29.482072\n",
            "Deaths     10804  29.482072\n",
            "Confirmed  10804  29.482072\n",
            "-------------\n"
          ],
          "name": "stdout"
        }
      ]
    },
    {
      "cell_type": "code",
      "metadata": {
        "id": "PaMWgF9NIeHG",
        "colab_type": "code",
        "colab": {}
      },
      "source": [
        "# Filling null values with zero\n",
        "\n",
        "merged['Confirmed'] = merged['Confirmed'].fillna(0)\n",
        "merged['Deaths'] = merged['Deaths'].fillna(0)\n",
        "merged['Recovered'] = merged['Recovered'].fillna(0)\n",
        "merged['Active'] = merged['Active'].fillna(0)\n",
        "\n",
        "# Null date columns mean that data for that country is not present\n",
        "# Replacing those null values with a dummy date\n",
        "end = pd.to_datetime('2020-6-16')\n",
        "merged['Date'] = merged['Date'].fillna(end)\n"
      ],
      "execution_count": null,
      "outputs": []
    },
    {
      "cell_type": "code",
      "metadata": {
        "id": "PX1z4p3hIeHI",
        "colab_type": "code",
        "colab": {
          "base_uri": "https://localhost:8080/",
          "height": 85
        },
        "outputId": "fd5ebbf9-60de-45d3-97b0-ed7accb63b7c"
      },
      "source": [
        "# Checking the percentage of null values again\n",
        "\n",
        "def printNullValues(df):\n",
        "    total = df.isnull().sum().sort_values(ascending = False)\n",
        "    total = total[df.isnull().sum().sort_values(ascending = False) != 0]\n",
        "    percent = total * 100 / len(df)\n",
        "    percent = percent[df.isnull().sum().sort_values(ascending = False) != 0]\n",
        "    concat = pd.concat([total, percent], axis=1, keys=['Total','Percent'])\n",
        "    print (concat)\n",
        "    print ( \"-------------\")\n",
        "    \n",
        "printNullValues(merged)"
      ],
      "execution_count": null,
      "outputs": [
        {
          "output_type": "stream",
          "text": [
            "Empty DataFrame\n",
            "Columns: [Total, Percent]\n",
            "Index: []\n",
            "-------------\n"
          ],
          "name": "stdout"
        }
      ]
    },
    {
      "cell_type": "code",
      "metadata": {
        "id": "mGTod4RNIeHL",
        "colab_type": "code",
        "colab": {
          "base_uri": "https://localhost:8080/",
          "height": 238
        },
        "outputId": "edf53611-5bb5-41a1-a0a1-2920a213f8dd"
      },
      "source": [
        "merged.info()"
      ],
      "execution_count": null,
      "outputs": [
        {
          "output_type": "stream",
          "text": [
            "<class 'pandas.core.frame.DataFrame'>\n",
            "Int64Index: 36646 entries, 0 to 36645\n",
            "Data columns (total 6 columns):\n",
            " #   Column     Non-Null Count  Dtype         \n",
            "---  ------     --------------  -----         \n",
            " 0   Country    36646 non-null  object        \n",
            " 1   Date       36646 non-null  datetime64[ns]\n",
            " 2   Confirmed  36646 non-null  float64       \n",
            " 3   Deaths     36646 non-null  float64       \n",
            " 4   Recovered  36646 non-null  float64       \n",
            " 5   Active     36646 non-null  float64       \n",
            "dtypes: datetime64[ns](1), float64(4), object(1)\n",
            "memory usage: 2.0+ MB\n"
          ],
          "name": "stdout"
        }
      ]
    },
    {
      "cell_type": "code",
      "metadata": {
        "id": "5tvYx_JLIeHQ",
        "colab_type": "code",
        "colab": {}
      },
      "source": [
        ""
      ],
      "execution_count": null,
      "outputs": []
    },
    {
      "cell_type": "code",
      "metadata": {
        "id": "ha5wKQzCIeHU",
        "colab_type": "code",
        "colab": {}
      },
      "source": [
        ""
      ],
      "execution_count": null,
      "outputs": []
    },
    {
      "cell_type": "code",
      "metadata": {
        "id": "yWzPzWKzIeHW",
        "colab_type": "code",
        "colab": {}
      },
      "source": [
        ""
      ],
      "execution_count": null,
      "outputs": []
    },
    {
      "cell_type": "code",
      "metadata": {
        "id": "zNgWr8fkIeHX",
        "colab_type": "code",
        "colab": {}
      },
      "source": [
        ""
      ],
      "execution_count": null,
      "outputs": []
    },
    {
      "cell_type": "markdown",
      "metadata": {
        "id": "Uyy8yOaHIeHZ",
        "colab_type": "text"
      },
      "source": [
        "## ---------------------------------------------------------------------------------------\n",
        "## Merging the merged Coronavirus dataframe and the shape file\n",
        "## ---------------------------------------------------------------------------------------"
      ]
    },
    {
      "cell_type": "code",
      "metadata": {
        "id": "ZF2gKbGXIeHZ",
        "colab_type": "code",
        "colab": {}
      },
      "source": [
        "# Finally merging the shape-file and the merged-dataframe\n",
        "# Now all countries will have a date, and a geometry column to plot the country shape on the world map\n",
        "\n",
        "final = pd.merge(merged, shape_file, on='Country')"
      ],
      "execution_count": null,
      "outputs": []
    },
    {
      "cell_type": "code",
      "metadata": {
        "id": "cImruUwEIeHb",
        "colab_type": "code",
        "colab": {
          "base_uri": "https://localhost:8080/",
          "height": 255
        },
        "outputId": "c50d1e24-95b9-41c6-9363-c031db8c0dda"
      },
      "source": [
        "final.info()"
      ],
      "execution_count": null,
      "outputs": [
        {
          "output_type": "stream",
          "text": [
            "<class 'pandas.core.frame.DataFrame'>\n",
            "Int64Index: 36646 entries, 0 to 36645\n",
            "Data columns (total 7 columns):\n",
            " #   Column     Non-Null Count  Dtype         \n",
            "---  ------     --------------  -----         \n",
            " 0   Country    36646 non-null  object        \n",
            " 1   Date       36646 non-null  datetime64[ns]\n",
            " 2   Confirmed  36646 non-null  float64       \n",
            " 3   Deaths     36646 non-null  float64       \n",
            " 4   Recovered  36646 non-null  float64       \n",
            " 5   Active     36646 non-null  float64       \n",
            " 6   geometry   36646 non-null  geometry      \n",
            "dtypes: datetime64[ns](1), float64(4), geometry(1), object(1)\n",
            "memory usage: 2.2+ MB\n"
          ],
          "name": "stdout"
        }
      ]
    },
    {
      "cell_type": "code",
      "metadata": {
        "id": "cWVp1eSwIeHi",
        "colab_type": "code",
        "colab": {
          "base_uri": "https://localhost:8080/",
          "height": 204
        },
        "outputId": "10a83a01-15c0-4a2b-e352-9089915dbeb7"
      },
      "source": [
        "final.head()"
      ],
      "execution_count": null,
      "outputs": [
        {
          "output_type": "execute_result",
          "data": {
            "text/html": [
              "<div>\n",
              "<style scoped>\n",
              "    .dataframe tbody tr th:only-of-type {\n",
              "        vertical-align: middle;\n",
              "    }\n",
              "\n",
              "    .dataframe tbody tr th {\n",
              "        vertical-align: top;\n",
              "    }\n",
              "\n",
              "    .dataframe thead th {\n",
              "        text-align: right;\n",
              "    }\n",
              "</style>\n",
              "<table border=\"1\" class=\"dataframe\">\n",
              "  <thead>\n",
              "    <tr style=\"text-align: right;\">\n",
              "      <th></th>\n",
              "      <th>Country</th>\n",
              "      <th>Date</th>\n",
              "      <th>Confirmed</th>\n",
              "      <th>Deaths</th>\n",
              "      <th>Recovered</th>\n",
              "      <th>Active</th>\n",
              "      <th>geometry</th>\n",
              "    </tr>\n",
              "  </thead>\n",
              "  <tbody>\n",
              "    <tr>\n",
              "      <th>0</th>\n",
              "      <td>Aruba</td>\n",
              "      <td>2020-01-22</td>\n",
              "      <td>0.0</td>\n",
              "      <td>0.0</td>\n",
              "      <td>0.0</td>\n",
              "      <td>0.0</td>\n",
              "      <td>POLYGON ((-69.88223 12.41111, -69.94695 12.436...</td>\n",
              "    </tr>\n",
              "    <tr>\n",
              "      <th>1</th>\n",
              "      <td>Aruba</td>\n",
              "      <td>2020-01-23</td>\n",
              "      <td>0.0</td>\n",
              "      <td>0.0</td>\n",
              "      <td>0.0</td>\n",
              "      <td>0.0</td>\n",
              "      <td>POLYGON ((-69.88223 12.41111, -69.94695 12.436...</td>\n",
              "    </tr>\n",
              "    <tr>\n",
              "      <th>2</th>\n",
              "      <td>Aruba</td>\n",
              "      <td>2020-01-24</td>\n",
              "      <td>0.0</td>\n",
              "      <td>0.0</td>\n",
              "      <td>0.0</td>\n",
              "      <td>0.0</td>\n",
              "      <td>POLYGON ((-69.88223 12.41111, -69.94695 12.436...</td>\n",
              "    </tr>\n",
              "    <tr>\n",
              "      <th>3</th>\n",
              "      <td>Aruba</td>\n",
              "      <td>2020-01-25</td>\n",
              "      <td>0.0</td>\n",
              "      <td>0.0</td>\n",
              "      <td>0.0</td>\n",
              "      <td>0.0</td>\n",
              "      <td>POLYGON ((-69.88223 12.41111, -69.94695 12.436...</td>\n",
              "    </tr>\n",
              "    <tr>\n",
              "      <th>4</th>\n",
              "      <td>Aruba</td>\n",
              "      <td>2020-01-26</td>\n",
              "      <td>0.0</td>\n",
              "      <td>0.0</td>\n",
              "      <td>0.0</td>\n",
              "      <td>0.0</td>\n",
              "      <td>POLYGON ((-69.88223 12.41111, -69.94695 12.436...</td>\n",
              "    </tr>\n",
              "  </tbody>\n",
              "</table>\n",
              "</div>"
            ],
            "text/plain": [
              "  Country       Date  ...  Active                                           geometry\n",
              "0   Aruba 2020-01-22  ...     0.0  POLYGON ((-69.88223 12.41111, -69.94695 12.436...\n",
              "1   Aruba 2020-01-23  ...     0.0  POLYGON ((-69.88223 12.41111, -69.94695 12.436...\n",
              "2   Aruba 2020-01-24  ...     0.0  POLYGON ((-69.88223 12.41111, -69.94695 12.436...\n",
              "3   Aruba 2020-01-25  ...     0.0  POLYGON ((-69.88223 12.41111, -69.94695 12.436...\n",
              "4   Aruba 2020-01-26  ...     0.0  POLYGON ((-69.88223 12.41111, -69.94695 12.436...\n",
              "\n",
              "[5 rows x 7 columns]"
            ]
          },
          "metadata": {
            "tags": []
          },
          "execution_count": 87
        }
      ]
    },
    {
      "cell_type": "code",
      "metadata": {
        "id": "YT8kKAK-IeHl",
        "colab_type": "code",
        "colab": {
          "base_uri": "https://localhost:8080/",
          "height": 85
        },
        "outputId": "d3e924bf-f333-458b-9b73-2c7d4c33736e"
      },
      "source": [
        "# Checking the percentage of null values again\n",
        "\n",
        "def printNullValues(df):\n",
        "    total = df.isnull().sum().sort_values(ascending = False)\n",
        "    total = total[df.isnull().sum().sort_values(ascending = False) != 0]\n",
        "    percent = total * 100 / len(df)\n",
        "    percent = percent[df.isnull().sum().sort_values(ascending = False) != 0]\n",
        "    concat = pd.concat([total, percent], axis=1, keys=['Total','Percent'])\n",
        "    print (concat)\n",
        "    print ( \"-------------\")\n",
        "    \n",
        "printNullValues(final)"
      ],
      "execution_count": null,
      "outputs": [
        {
          "output_type": "stream",
          "text": [
            "Empty DataFrame\n",
            "Columns: [Total, Percent]\n",
            "Index: []\n",
            "-------------\n"
          ],
          "name": "stdout"
        }
      ]
    },
    {
      "cell_type": "code",
      "metadata": {
        "id": "nhYWuzNoIeHn",
        "colab_type": "code",
        "colab": {}
      },
      "source": [
        ""
      ],
      "execution_count": null,
      "outputs": []
    },
    {
      "cell_type": "code",
      "metadata": {
        "id": "ewUMNAFAIeHw",
        "colab_type": "code",
        "colab": {}
      },
      "source": [
        ""
      ],
      "execution_count": null,
      "outputs": []
    },
    {
      "cell_type": "markdown",
      "metadata": {
        "id": "5KCKPXnSIeH0",
        "colab_type": "text"
      },
      "source": [
        "## ---------------------------------------------------------------------------------------\n",
        "## Creating log10 columns for values\n",
        "## ---------------------------------------------------------------------------------------"
      ]
    },
    {
      "cell_type": "code",
      "metadata": {
        "id": "1KDKmxEIIeH0",
        "colab_type": "code",
        "colab": {
          "base_uri": "https://localhost:8080/",
          "height": 241
        },
        "outputId": "ae63884b-7197-4b4e-a210-2acd996802f8"
      },
      "source": [
        "# Making new columns for log10(Confirmed Cases) and log10(Deaths)\n",
        "\n",
        "final['log_Confirmed'] = np.log10(final['Confirmed'])\n",
        "final['log_Deaths'] = np.log10(final['Deaths'])\n",
        "\n",
        "# Since log10(0) = - inf, and many values are 0\n",
        "# Replacing all values smaller than 0 with 0\n",
        "\n",
        "final.log_Confirmed[final.log_Confirmed < 0] = 0\n",
        "final.log_Deaths[final.log_Deaths < 0] = 0"
      ],
      "execution_count": null,
      "outputs": [
        {
          "output_type": "stream",
          "text": [
            "/usr/local/lib/python3.6/dist-packages/pandas/core/series.py:679: RuntimeWarning: divide by zero encountered in log10\n",
            "  result = getattr(ufunc, method)(*inputs, **kwargs)\n",
            "/usr/local/lib/python3.6/dist-packages/ipykernel_launcher.py:9: SettingWithCopyWarning: \n",
            "A value is trying to be set on a copy of a slice from a DataFrame\n",
            "\n",
            "See the caveats in the documentation: https://pandas.pydata.org/pandas-docs/stable/user_guide/indexing.html#returning-a-view-versus-a-copy\n",
            "  if __name__ == '__main__':\n",
            "/usr/local/lib/python3.6/dist-packages/ipykernel_launcher.py:10: SettingWithCopyWarning: \n",
            "A value is trying to be set on a copy of a slice from a DataFrame\n",
            "\n",
            "See the caveats in the documentation: https://pandas.pydata.org/pandas-docs/stable/user_guide/indexing.html#returning-a-view-versus-a-copy\n",
            "  # Remove the CWD from sys.path while we load stuff.\n"
          ],
          "name": "stderr"
        }
      ]
    },
    {
      "cell_type": "code",
      "metadata": {
        "id": "OEOxL_07IeH4",
        "colab_type": "code",
        "colab": {
          "base_uri": "https://localhost:8080/",
          "height": 289
        },
        "outputId": "0c4ab82b-412d-4d01-b766-47f92eab31d8"
      },
      "source": [
        "final.info()"
      ],
      "execution_count": null,
      "outputs": [
        {
          "output_type": "stream",
          "text": [
            "<class 'pandas.core.frame.DataFrame'>\n",
            "Int64Index: 36646 entries, 0 to 36645\n",
            "Data columns (total 9 columns):\n",
            " #   Column         Non-Null Count  Dtype         \n",
            "---  ------         --------------  -----         \n",
            " 0   Country        36646 non-null  object        \n",
            " 1   Date           36646 non-null  datetime64[ns]\n",
            " 2   Confirmed      36646 non-null  float64       \n",
            " 3   Deaths         36646 non-null  float64       \n",
            " 4   Recovered      36646 non-null  float64       \n",
            " 5   Active         36646 non-null  float64       \n",
            " 6   geometry       36646 non-null  geometry      \n",
            " 7   log_Confirmed  36646 non-null  float64       \n",
            " 8   log_Deaths     36646 non-null  float64       \n",
            "dtypes: datetime64[ns](1), float64(6), geometry(1), object(1)\n",
            "memory usage: 2.8+ MB\n"
          ],
          "name": "stdout"
        }
      ]
    },
    {
      "cell_type": "code",
      "metadata": {
        "id": "cu4_DFanIeH6",
        "colab_type": "code",
        "colab": {
          "base_uri": "https://localhost:8080/",
          "height": 289
        },
        "outputId": "52d94bad-01da-479c-809a-a1584a762005"
      },
      "source": [
        "final.tail()"
      ],
      "execution_count": null,
      "outputs": [
        {
          "output_type": "execute_result",
          "data": {
            "text/html": [
              "<div>\n",
              "<style scoped>\n",
              "    .dataframe tbody tr th:only-of-type {\n",
              "        vertical-align: middle;\n",
              "    }\n",
              "\n",
              "    .dataframe tbody tr th {\n",
              "        vertical-align: top;\n",
              "    }\n",
              "\n",
              "    .dataframe thead th {\n",
              "        text-align: right;\n",
              "    }\n",
              "</style>\n",
              "<table border=\"1\" class=\"dataframe\">\n",
              "  <thead>\n",
              "    <tr style=\"text-align: right;\">\n",
              "      <th></th>\n",
              "      <th>Country</th>\n",
              "      <th>Date</th>\n",
              "      <th>Confirmed</th>\n",
              "      <th>Deaths</th>\n",
              "      <th>Recovered</th>\n",
              "      <th>Active</th>\n",
              "      <th>geometry</th>\n",
              "      <th>log_Confirmed</th>\n",
              "      <th>log_Deaths</th>\n",
              "    </tr>\n",
              "  </thead>\n",
              "  <tbody>\n",
              "    <tr>\n",
              "      <th>36641</th>\n",
              "      <td>Zimbabwe</td>\n",
              "      <td>2020-06-11</td>\n",
              "      <td>332.0</td>\n",
              "      <td>4.0</td>\n",
              "      <td>51.0</td>\n",
              "      <td>277.0</td>\n",
              "      <td>POLYGON ((32.48888 -21.34445, 32.46541 -21.325...</td>\n",
              "      <td>2.521138</td>\n",
              "      <td>0.60206</td>\n",
              "    </tr>\n",
              "    <tr>\n",
              "      <th>36642</th>\n",
              "      <td>Zimbabwe</td>\n",
              "      <td>2020-06-12</td>\n",
              "      <td>343.0</td>\n",
              "      <td>4.0</td>\n",
              "      <td>51.0</td>\n",
              "      <td>288.0</td>\n",
              "      <td>POLYGON ((32.48888 -21.34445, 32.46541 -21.325...</td>\n",
              "      <td>2.535294</td>\n",
              "      <td>0.60206</td>\n",
              "    </tr>\n",
              "    <tr>\n",
              "      <th>36643</th>\n",
              "      <td>Zimbabwe</td>\n",
              "      <td>2020-06-13</td>\n",
              "      <td>356.0</td>\n",
              "      <td>4.0</td>\n",
              "      <td>54.0</td>\n",
              "      <td>298.0</td>\n",
              "      <td>POLYGON ((32.48888 -21.34445, 32.46541 -21.325...</td>\n",
              "      <td>2.551450</td>\n",
              "      <td>0.60206</td>\n",
              "    </tr>\n",
              "    <tr>\n",
              "      <th>36644</th>\n",
              "      <td>Zimbabwe</td>\n",
              "      <td>2020-06-14</td>\n",
              "      <td>383.0</td>\n",
              "      <td>4.0</td>\n",
              "      <td>54.0</td>\n",
              "      <td>325.0</td>\n",
              "      <td>POLYGON ((32.48888 -21.34445, 32.46541 -21.325...</td>\n",
              "      <td>2.583199</td>\n",
              "      <td>0.60206</td>\n",
              "    </tr>\n",
              "    <tr>\n",
              "      <th>36645</th>\n",
              "      <td>Zimbabwe</td>\n",
              "      <td>2020-06-15</td>\n",
              "      <td>387.0</td>\n",
              "      <td>4.0</td>\n",
              "      <td>54.0</td>\n",
              "      <td>329.0</td>\n",
              "      <td>POLYGON ((32.48888 -21.34445, 32.46541 -21.325...</td>\n",
              "      <td>2.587711</td>\n",
              "      <td>0.60206</td>\n",
              "    </tr>\n",
              "  </tbody>\n",
              "</table>\n",
              "</div>"
            ],
            "text/plain": [
              "        Country       Date  ...  log_Confirmed  log_Deaths\n",
              "36641  Zimbabwe 2020-06-11  ...       2.521138     0.60206\n",
              "36642  Zimbabwe 2020-06-12  ...       2.535294     0.60206\n",
              "36643  Zimbabwe 2020-06-13  ...       2.551450     0.60206\n",
              "36644  Zimbabwe 2020-06-14  ...       2.583199     0.60206\n",
              "36645  Zimbabwe 2020-06-15  ...       2.587711     0.60206\n",
              "\n",
              "[5 rows x 9 columns]"
            ]
          },
          "metadata": {
            "tags": []
          },
          "execution_count": 91
        }
      ]
    },
    {
      "cell_type": "code",
      "metadata": {
        "id": "6k_iiF31IeIA",
        "colab_type": "code",
        "colab": {}
      },
      "source": [
        ""
      ],
      "execution_count": null,
      "outputs": []
    },
    {
      "cell_type": "code",
      "metadata": {
        "id": "6yyZDa-lIeIC",
        "colab_type": "code",
        "colab": {}
      },
      "source": [
        ""
      ],
      "execution_count": null,
      "outputs": []
    },
    {
      "cell_type": "code",
      "metadata": {
        "id": "UO5Pa32wIeIF",
        "colab_type": "code",
        "colab": {}
      },
      "source": [
        ""
      ],
      "execution_count": null,
      "outputs": []
    },
    {
      "cell_type": "markdown",
      "metadata": {
        "id": "WxoaHcrXIeIG",
        "colab_type": "text"
      },
      "source": [
        "## ---------------------------------------------------------------------------------------\n",
        "## Removing Antarctica\n",
        "## ---------------------------------------------------------------------------------------"
      ]
    },
    {
      "cell_type": "code",
      "metadata": {
        "id": "SgZQPoHfIeIH",
        "colab_type": "code",
        "colab": {}
      },
      "source": [
        "# Antarctica is not inhabited\n",
        "# So removing it from the countries to map\n",
        "\n",
        "antarctica_loc = final.loc[final.Country == 'Antarctica']\n",
        "antarctica_loc_list = antarctica_loc.index.unique().tolist()"
      ],
      "execution_count": null,
      "outputs": []
    },
    {
      "cell_type": "code",
      "metadata": {
        "id": "_RxpLxeOIeIJ",
        "colab_type": "code",
        "colab": {}
      },
      "source": [
        "# Dropping the rows that represnt Antarctica\n",
        "\n",
        "final.drop(antarctica_loc_list, inplace=True)"
      ],
      "execution_count": null,
      "outputs": []
    },
    {
      "cell_type": "code",
      "metadata": {
        "id": "kwq3Q-ErIeIO",
        "colab_type": "code",
        "colab": {
          "base_uri": "https://localhost:8080/",
          "height": 49
        },
        "outputId": "ec3f16a7-6c25-4ab2-a2e0-1e628e338977"
      },
      "source": [
        "# Confirming by looking up the dataframe\n",
        "\n",
        "final.loc[final.Country == 'Antarctica']"
      ],
      "execution_count": null,
      "outputs": [
        {
          "output_type": "execute_result",
          "data": {
            "text/html": [
              "<div>\n",
              "<style scoped>\n",
              "    .dataframe tbody tr th:only-of-type {\n",
              "        vertical-align: middle;\n",
              "    }\n",
              "\n",
              "    .dataframe tbody tr th {\n",
              "        vertical-align: top;\n",
              "    }\n",
              "\n",
              "    .dataframe thead th {\n",
              "        text-align: right;\n",
              "    }\n",
              "</style>\n",
              "<table border=\"1\" class=\"dataframe\">\n",
              "  <thead>\n",
              "    <tr style=\"text-align: right;\">\n",
              "      <th></th>\n",
              "      <th>Country</th>\n",
              "      <th>Date</th>\n",
              "      <th>Confirmed</th>\n",
              "      <th>Deaths</th>\n",
              "      <th>Recovered</th>\n",
              "      <th>Active</th>\n",
              "      <th>geometry</th>\n",
              "      <th>log_Confirmed</th>\n",
              "      <th>log_Deaths</th>\n",
              "    </tr>\n",
              "  </thead>\n",
              "  <tbody>\n",
              "  </tbody>\n",
              "</table>\n",
              "</div>"
            ],
            "text/plain": [
              "Empty DataFrame\n",
              "Columns: [Country, Date, Confirmed, Deaths, Recovered, Active, geometry, log_Confirmed, log_Deaths]\n",
              "Index: []"
            ]
          },
          "metadata": {
            "tags": []
          },
          "execution_count": 96
        }
      ]
    },
    {
      "cell_type": "code",
      "metadata": {
        "id": "FsS3fQp7IeIV",
        "colab_type": "code",
        "colab": {
          "base_uri": "https://localhost:8080/",
          "height": 289
        },
        "outputId": "fa8d6563-f9d2-4d73-e566-c89db553f1e4"
      },
      "source": [
        "# Resetting the index\n",
        "\n",
        "final.reset_index(drop=True, inplace=True)\n",
        "final.info()"
      ],
      "execution_count": null,
      "outputs": [
        {
          "output_type": "stream",
          "text": [
            "<class 'pandas.core.frame.DataFrame'>\n",
            "RangeIndex: 36500 entries, 0 to 36499\n",
            "Data columns (total 9 columns):\n",
            " #   Column         Non-Null Count  Dtype         \n",
            "---  ------         --------------  -----         \n",
            " 0   Country        36500 non-null  object        \n",
            " 1   Date           36500 non-null  datetime64[ns]\n",
            " 2   Confirmed      36500 non-null  float64       \n",
            " 3   Deaths         36500 non-null  float64       \n",
            " 4   Recovered      36500 non-null  float64       \n",
            " 5   Active         36500 non-null  float64       \n",
            " 6   geometry       36500 non-null  geometry      \n",
            " 7   log_Confirmed  36500 non-null  float64       \n",
            " 8   log_Deaths     36500 non-null  float64       \n",
            "dtypes: datetime64[ns](1), float64(6), geometry(1), object(1)\n",
            "memory usage: 2.5+ MB\n"
          ],
          "name": "stdout"
        }
      ]
    },
    {
      "cell_type": "code",
      "metadata": {
        "id": "0pfg1USNIeIX",
        "colab_type": "code",
        "colab": {}
      },
      "source": [
        ""
      ],
      "execution_count": null,
      "outputs": []
    },
    {
      "cell_type": "code",
      "metadata": {
        "id": "_6xk0ogTIeIa",
        "colab_type": "code",
        "colab": {}
      },
      "source": [
        ""
      ],
      "execution_count": null,
      "outputs": []
    },
    {
      "cell_type": "code",
      "metadata": {
        "id": "MV8m1syqIeId",
        "colab_type": "code",
        "colab": {}
      },
      "source": [
        ""
      ],
      "execution_count": null,
      "outputs": []
    },
    {
      "cell_type": "code",
      "metadata": {
        "id": "34_F8lfpIeIf",
        "colab_type": "code",
        "colab": {
          "base_uri": "https://localhost:8080/",
          "height": 289
        },
        "outputId": "dc68ec42-0133-49de-c4b2-763d0a25536e"
      },
      "source": [
        "final.head()"
      ],
      "execution_count": null,
      "outputs": [
        {
          "output_type": "execute_result",
          "data": {
            "text/html": [
              "<div>\n",
              "<style scoped>\n",
              "    .dataframe tbody tr th:only-of-type {\n",
              "        vertical-align: middle;\n",
              "    }\n",
              "\n",
              "    .dataframe tbody tr th {\n",
              "        vertical-align: top;\n",
              "    }\n",
              "\n",
              "    .dataframe thead th {\n",
              "        text-align: right;\n",
              "    }\n",
              "</style>\n",
              "<table border=\"1\" class=\"dataframe\">\n",
              "  <thead>\n",
              "    <tr style=\"text-align: right;\">\n",
              "      <th></th>\n",
              "      <th>Country</th>\n",
              "      <th>Date</th>\n",
              "      <th>Confirmed</th>\n",
              "      <th>Deaths</th>\n",
              "      <th>Recovered</th>\n",
              "      <th>Active</th>\n",
              "      <th>geometry</th>\n",
              "      <th>log_Confirmed</th>\n",
              "      <th>log_Deaths</th>\n",
              "    </tr>\n",
              "  </thead>\n",
              "  <tbody>\n",
              "    <tr>\n",
              "      <th>0</th>\n",
              "      <td>Aruba</td>\n",
              "      <td>2020-01-22</td>\n",
              "      <td>0.0</td>\n",
              "      <td>0.0</td>\n",
              "      <td>0.0</td>\n",
              "      <td>0.0</td>\n",
              "      <td>POLYGON ((-69.88223 12.41111, -69.94695 12.436...</td>\n",
              "      <td>0.0</td>\n",
              "      <td>0.0</td>\n",
              "    </tr>\n",
              "    <tr>\n",
              "      <th>1</th>\n",
              "      <td>Aruba</td>\n",
              "      <td>2020-01-23</td>\n",
              "      <td>0.0</td>\n",
              "      <td>0.0</td>\n",
              "      <td>0.0</td>\n",
              "      <td>0.0</td>\n",
              "      <td>POLYGON ((-69.88223 12.41111, -69.94695 12.436...</td>\n",
              "      <td>0.0</td>\n",
              "      <td>0.0</td>\n",
              "    </tr>\n",
              "    <tr>\n",
              "      <th>2</th>\n",
              "      <td>Aruba</td>\n",
              "      <td>2020-01-24</td>\n",
              "      <td>0.0</td>\n",
              "      <td>0.0</td>\n",
              "      <td>0.0</td>\n",
              "      <td>0.0</td>\n",
              "      <td>POLYGON ((-69.88223 12.41111, -69.94695 12.436...</td>\n",
              "      <td>0.0</td>\n",
              "      <td>0.0</td>\n",
              "    </tr>\n",
              "    <tr>\n",
              "      <th>3</th>\n",
              "      <td>Aruba</td>\n",
              "      <td>2020-01-25</td>\n",
              "      <td>0.0</td>\n",
              "      <td>0.0</td>\n",
              "      <td>0.0</td>\n",
              "      <td>0.0</td>\n",
              "      <td>POLYGON ((-69.88223 12.41111, -69.94695 12.436...</td>\n",
              "      <td>0.0</td>\n",
              "      <td>0.0</td>\n",
              "    </tr>\n",
              "    <tr>\n",
              "      <th>4</th>\n",
              "      <td>Aruba</td>\n",
              "      <td>2020-01-26</td>\n",
              "      <td>0.0</td>\n",
              "      <td>0.0</td>\n",
              "      <td>0.0</td>\n",
              "      <td>0.0</td>\n",
              "      <td>POLYGON ((-69.88223 12.41111, -69.94695 12.436...</td>\n",
              "      <td>0.0</td>\n",
              "      <td>0.0</td>\n",
              "    </tr>\n",
              "  </tbody>\n",
              "</table>\n",
              "</div>"
            ],
            "text/plain": [
              "  Country       Date  ...  log_Confirmed  log_Deaths\n",
              "0   Aruba 2020-01-22  ...            0.0         0.0\n",
              "1   Aruba 2020-01-23  ...            0.0         0.0\n",
              "2   Aruba 2020-01-24  ...            0.0         0.0\n",
              "3   Aruba 2020-01-25  ...            0.0         0.0\n",
              "4   Aruba 2020-01-26  ...            0.0         0.0\n",
              "\n",
              "[5 rows x 9 columns]"
            ]
          },
          "metadata": {
            "tags": []
          },
          "execution_count": 98
        }
      ]
    },
    {
      "cell_type": "code",
      "metadata": {
        "id": "CHVbF7dxIeIi",
        "colab_type": "code",
        "colab": {
          "base_uri": "https://localhost:8080/",
          "height": 289
        },
        "outputId": "b044a254-d2f8-4701-d01d-04ef45a830f0"
      },
      "source": [
        "final.tail()"
      ],
      "execution_count": null,
      "outputs": [
        {
          "output_type": "execute_result",
          "data": {
            "text/html": [
              "<div>\n",
              "<style scoped>\n",
              "    .dataframe tbody tr th:only-of-type {\n",
              "        vertical-align: middle;\n",
              "    }\n",
              "\n",
              "    .dataframe tbody tr th {\n",
              "        vertical-align: top;\n",
              "    }\n",
              "\n",
              "    .dataframe thead th {\n",
              "        text-align: right;\n",
              "    }\n",
              "</style>\n",
              "<table border=\"1\" class=\"dataframe\">\n",
              "  <thead>\n",
              "    <tr style=\"text-align: right;\">\n",
              "      <th></th>\n",
              "      <th>Country</th>\n",
              "      <th>Date</th>\n",
              "      <th>Confirmed</th>\n",
              "      <th>Deaths</th>\n",
              "      <th>Recovered</th>\n",
              "      <th>Active</th>\n",
              "      <th>geometry</th>\n",
              "      <th>log_Confirmed</th>\n",
              "      <th>log_Deaths</th>\n",
              "    </tr>\n",
              "  </thead>\n",
              "  <tbody>\n",
              "    <tr>\n",
              "      <th>36495</th>\n",
              "      <td>Zimbabwe</td>\n",
              "      <td>2020-06-11</td>\n",
              "      <td>332.0</td>\n",
              "      <td>4.0</td>\n",
              "      <td>51.0</td>\n",
              "      <td>277.0</td>\n",
              "      <td>POLYGON ((32.48888 -21.34445, 32.46541 -21.325...</td>\n",
              "      <td>2.521138</td>\n",
              "      <td>0.60206</td>\n",
              "    </tr>\n",
              "    <tr>\n",
              "      <th>36496</th>\n",
              "      <td>Zimbabwe</td>\n",
              "      <td>2020-06-12</td>\n",
              "      <td>343.0</td>\n",
              "      <td>4.0</td>\n",
              "      <td>51.0</td>\n",
              "      <td>288.0</td>\n",
              "      <td>POLYGON ((32.48888 -21.34445, 32.46541 -21.325...</td>\n",
              "      <td>2.535294</td>\n",
              "      <td>0.60206</td>\n",
              "    </tr>\n",
              "    <tr>\n",
              "      <th>36497</th>\n",
              "      <td>Zimbabwe</td>\n",
              "      <td>2020-06-13</td>\n",
              "      <td>356.0</td>\n",
              "      <td>4.0</td>\n",
              "      <td>54.0</td>\n",
              "      <td>298.0</td>\n",
              "      <td>POLYGON ((32.48888 -21.34445, 32.46541 -21.325...</td>\n",
              "      <td>2.551450</td>\n",
              "      <td>0.60206</td>\n",
              "    </tr>\n",
              "    <tr>\n",
              "      <th>36498</th>\n",
              "      <td>Zimbabwe</td>\n",
              "      <td>2020-06-14</td>\n",
              "      <td>383.0</td>\n",
              "      <td>4.0</td>\n",
              "      <td>54.0</td>\n",
              "      <td>325.0</td>\n",
              "      <td>POLYGON ((32.48888 -21.34445, 32.46541 -21.325...</td>\n",
              "      <td>2.583199</td>\n",
              "      <td>0.60206</td>\n",
              "    </tr>\n",
              "    <tr>\n",
              "      <th>36499</th>\n",
              "      <td>Zimbabwe</td>\n",
              "      <td>2020-06-15</td>\n",
              "      <td>387.0</td>\n",
              "      <td>4.0</td>\n",
              "      <td>54.0</td>\n",
              "      <td>329.0</td>\n",
              "      <td>POLYGON ((32.48888 -21.34445, 32.46541 -21.325...</td>\n",
              "      <td>2.587711</td>\n",
              "      <td>0.60206</td>\n",
              "    </tr>\n",
              "  </tbody>\n",
              "</table>\n",
              "</div>"
            ],
            "text/plain": [
              "        Country       Date  ...  log_Confirmed  log_Deaths\n",
              "36495  Zimbabwe 2020-06-11  ...       2.521138     0.60206\n",
              "36496  Zimbabwe 2020-06-12  ...       2.535294     0.60206\n",
              "36497  Zimbabwe 2020-06-13  ...       2.551450     0.60206\n",
              "36498  Zimbabwe 2020-06-14  ...       2.583199     0.60206\n",
              "36499  Zimbabwe 2020-06-15  ...       2.587711     0.60206\n",
              "\n",
              "[5 rows x 9 columns]"
            ]
          },
          "metadata": {
            "tags": []
          },
          "execution_count": 99
        }
      ]
    },
    {
      "cell_type": "code",
      "metadata": {
        "id": "E0aExuiMIeIn",
        "colab_type": "code",
        "colab": {}
      },
      "source": [
        ""
      ],
      "execution_count": null,
      "outputs": []
    },
    {
      "cell_type": "code",
      "metadata": {
        "id": "T9Qe6hFlIeIp",
        "colab_type": "code",
        "colab": {}
      },
      "source": [
        ""
      ],
      "execution_count": null,
      "outputs": []
    },
    {
      "cell_type": "code",
      "metadata": {
        "id": "lrXAqg3HIeIq",
        "colab_type": "code",
        "colab": {}
      },
      "source": [
        "# Saving the dataframe to csv\n",
        "\n",
        "edited_master = final\n",
        "edited_master = edited_master.astype(object)\n",
        "edited_master.to_csv('edited_master.csv', encoding='utf-8', index=False)"
      ],
      "execution_count": null,
      "outputs": []
    },
    {
      "cell_type": "code",
      "metadata": {
        "id": "BtiOl_h4IeIt",
        "colab_type": "code",
        "colab": {}
      },
      "source": [
        ""
      ],
      "execution_count": null,
      "outputs": []
    },
    {
      "cell_type": "code",
      "metadata": {
        "id": "cArfYakEIeIv",
        "colab_type": "code",
        "colab": {}
      },
      "source": [
        ""
      ],
      "execution_count": null,
      "outputs": []
    },
    {
      "cell_type": "markdown",
      "metadata": {
        "id": "QJatzvH8IeI3",
        "colab_type": "text"
      },
      "source": [
        "## ---------------------------------------------------------------------------------------\n",
        "## Final data type changes\n",
        "## ---------------------------------------------------------------------------------------"
      ]
    },
    {
      "cell_type": "code",
      "metadata": {
        "id": "S1YjDdopIeI7",
        "colab_type": "code",
        "colab": {
          "base_uri": "https://localhost:8080/",
          "height": 343
        },
        "outputId": "0bb00e43-e0f3-4a5d-982b-4fc5a26327c9"
      },
      "source": [
        "# The geometry column is needed to plot the world map\n",
        "# But the data type should be geopandas.geometry type and not float\n",
        "# Converting the data-type to geometry\n",
        "\n",
        "# final['geometry'] = final['geometry'].apply(wkt.loads)\n",
        "\n",
        "\n",
        "# Converting from pandas dataframe to geopandas dataframe\n",
        "geometry = final.geometry\n",
        "crs = {'init': 'epsg:4326'}\n",
        "final = gpd.GeoDataFrame(final, crs=crs, geometry=geometry)\n",
        "final.info()"
      ],
      "execution_count": null,
      "outputs": [
        {
          "output_type": "stream",
          "text": [
            "<class 'geopandas.geodataframe.GeoDataFrame'>\n",
            "RangeIndex: 36500 entries, 0 to 36499\n",
            "Data columns (total 9 columns):\n",
            " #   Column         Non-Null Count  Dtype         \n",
            "---  ------         --------------  -----         \n",
            " 0   Country        36500 non-null  object        \n",
            " 1   Date           36500 non-null  datetime64[ns]\n",
            " 2   Confirmed      36500 non-null  float64       \n",
            " 3   Deaths         36500 non-null  float64       \n",
            " 4   Recovered      36500 non-null  float64       \n",
            " 5   Active         36500 non-null  float64       \n",
            " 6   geometry       36500 non-null  geometry      \n",
            " 7   log_Confirmed  36500 non-null  float64       \n",
            " 8   log_Deaths     36500 non-null  float64       \n",
            "dtypes: datetime64[ns](1), float64(6), geometry(1), object(1)\n",
            "memory usage: 2.5+ MB\n"
          ],
          "name": "stdout"
        },
        {
          "output_type": "stream",
          "text": [
            "/usr/local/lib/python3.6/dist-packages/pyproj/crs/crs.py:53: FutureWarning: '+init=<authority>:<code>' syntax is deprecated. '<authority>:<code>' is the preferred initialization method. When making the change, be mindful of axis order changes: https://pyproj4.github.io/pyproj/stable/gotchas.html#axis-order-changes-in-proj-6\n",
            "  return _prepare_from_string(\" \".join(pjargs))\n"
          ],
          "name": "stderr"
        }
      ]
    },
    {
      "cell_type": "code",
      "metadata": {
        "id": "9uAdET3OIeJA",
        "colab_type": "code",
        "colab": {}
      },
      "source": [
        ""
      ],
      "execution_count": null,
      "outputs": []
    },
    {
      "cell_type": "code",
      "metadata": {
        "id": "Tme7CYrKIeJI",
        "colab_type": "code",
        "colab": {}
      },
      "source": [
        ""
      ],
      "execution_count": null,
      "outputs": []
    },
    {
      "cell_type": "code",
      "metadata": {
        "id": "f77fFZoZIeJK",
        "colab_type": "code",
        "colab": {}
      },
      "source": [
        ""
      ],
      "execution_count": null,
      "outputs": []
    },
    {
      "cell_type": "code",
      "metadata": {
        "id": "6tpWKGSGIeJP",
        "colab_type": "code",
        "colab": {}
      },
      "source": [
        ""
      ],
      "execution_count": null,
      "outputs": []
    },
    {
      "cell_type": "markdown",
      "metadata": {
        "id": "Dl4SWg26IeJa",
        "colab_type": "text"
      },
      "source": [
        "## ---------------------------------------------------------------------------------------\n",
        "## Selecting test-dates for test-plotting\n",
        "## ---------------------------------------------------------------------------------------"
      ]
    },
    {
      "cell_type": "code",
      "metadata": {
        "id": "fEH7j5pDIeJa",
        "colab_type": "code",
        "colab": {
          "base_uri": "https://localhost:8080/",
          "height": 221
        },
        "outputId": "41447105-28ea-4c3c-bafb-73e47c2bfc65"
      },
      "source": [
        "# Selecting specific dates from the date list\n",
        "\n",
        "print(date_list.loc[date_list.Date == '2020-01-22'])\n",
        "print(date_list.loc[date_list.Date == '2020-02-20'])\n",
        "print(date_list.loc[date_list.Date == '2020-03-20'])\n",
        "print(date_list.loc[date_list.Date == '2020-04-20'])\n",
        "print(date_list.loc[date_list.Date == '2020-05-20'])\n",
        "print(date_list.loc[date_list.Date == '2020-06-15'])"
      ],
      "execution_count": null,
      "outputs": [
        {
          "output_type": "stream",
          "text": [
            "        Date\n",
            "0 2020-01-22\n",
            "         Date\n",
            "29 2020-02-20\n",
            "         Date\n",
            "58 2020-03-20\n",
            "         Date\n",
            "89 2020-04-20\n",
            "          Date\n",
            "119 2020-05-20\n",
            "          Date\n",
            "145 2020-06-15\n"
          ],
          "name": "stdout"
        }
      ]
    },
    {
      "cell_type": "code",
      "metadata": {
        "id": "V00wIn5PIeJc",
        "colab_type": "code",
        "colab": {}
      },
      "source": [
        "date_list_test = date_list.iloc[[0, 29, 58, 89, 119, 145]]"
      ],
      "execution_count": null,
      "outputs": []
    },
    {
      "cell_type": "code",
      "metadata": {
        "id": "fIbiPKzcIeJg",
        "colab_type": "code",
        "colab": {
          "base_uri": "https://localhost:8080/",
          "height": 153
        },
        "outputId": "deb8759b-7c49-4d6a-9555-a50b5ab3f62a"
      },
      "source": [
        "date_list_test.info()"
      ],
      "execution_count": null,
      "outputs": [
        {
          "output_type": "stream",
          "text": [
            "<class 'pandas.core.frame.DataFrame'>\n",
            "Int64Index: 6 entries, 0 to 145\n",
            "Data columns (total 1 columns):\n",
            " #   Column  Non-Null Count  Dtype         \n",
            "---  ------  --------------  -----         \n",
            " 0   Date    6 non-null      datetime64[ns]\n",
            "dtypes: datetime64[ns](1)\n",
            "memory usage: 96.0 bytes\n"
          ],
          "name": "stdout"
        }
      ]
    },
    {
      "cell_type": "code",
      "metadata": {
        "id": "7JEl_GLzIeJn",
        "colab_type": "code",
        "colab": {
          "base_uri": "https://localhost:8080/",
          "height": 235
        },
        "outputId": "5e48d634-0ceb-4582-9e93-ecd2a102cd32"
      },
      "source": [
        "date_list_test.reset_index(drop=True, inplace=True)\n",
        "date_list_test"
      ],
      "execution_count": null,
      "outputs": [
        {
          "output_type": "execute_result",
          "data": {
            "text/html": [
              "<div>\n",
              "<style scoped>\n",
              "    .dataframe tbody tr th:only-of-type {\n",
              "        vertical-align: middle;\n",
              "    }\n",
              "\n",
              "    .dataframe tbody tr th {\n",
              "        vertical-align: top;\n",
              "    }\n",
              "\n",
              "    .dataframe thead th {\n",
              "        text-align: right;\n",
              "    }\n",
              "</style>\n",
              "<table border=\"1\" class=\"dataframe\">\n",
              "  <thead>\n",
              "    <tr style=\"text-align: right;\">\n",
              "      <th></th>\n",
              "      <th>Date</th>\n",
              "    </tr>\n",
              "  </thead>\n",
              "  <tbody>\n",
              "    <tr>\n",
              "      <th>0</th>\n",
              "      <td>2020-01-22</td>\n",
              "    </tr>\n",
              "    <tr>\n",
              "      <th>1</th>\n",
              "      <td>2020-02-20</td>\n",
              "    </tr>\n",
              "    <tr>\n",
              "      <th>2</th>\n",
              "      <td>2020-03-20</td>\n",
              "    </tr>\n",
              "    <tr>\n",
              "      <th>3</th>\n",
              "      <td>2020-04-20</td>\n",
              "    </tr>\n",
              "    <tr>\n",
              "      <th>4</th>\n",
              "      <td>2020-05-20</td>\n",
              "    </tr>\n",
              "    <tr>\n",
              "      <th>5</th>\n",
              "      <td>2020-06-15</td>\n",
              "    </tr>\n",
              "  </tbody>\n",
              "</table>\n",
              "</div>"
            ],
            "text/plain": [
              "        Date\n",
              "0 2020-01-22\n",
              "1 2020-02-20\n",
              "2 2020-03-20\n",
              "3 2020-04-20\n",
              "4 2020-05-20\n",
              "5 2020-06-15"
            ]
          },
          "metadata": {
            "tags": []
          },
          "execution_count": 106
        }
      ]
    },
    {
      "cell_type": "code",
      "metadata": {
        "id": "r0KGF4EUIeJp",
        "colab_type": "code",
        "colab": {}
      },
      "source": [
        ""
      ],
      "execution_count": null,
      "outputs": []
    },
    {
      "cell_type": "code",
      "metadata": {
        "id": "-MyoY57pIeJr",
        "colab_type": "code",
        "colab": {}
      },
      "source": [
        ""
      ],
      "execution_count": null,
      "outputs": []
    },
    {
      "cell_type": "code",
      "metadata": {
        "id": "I2Rf2E3TIeJs",
        "colab_type": "code",
        "colab": {}
      },
      "source": [
        ""
      ],
      "execution_count": null,
      "outputs": []
    },
    {
      "cell_type": "markdown",
      "metadata": {
        "id": "GIZZcmHAIeJu",
        "colab_type": "text"
      },
      "source": [
        "## ---------------------------------------------------------------------------------------\n",
        "## Plotting the multiple maps for test-dates\n",
        "## ---------------------------------------------------------------------------------------"
      ]
    },
    {
      "cell_type": "code",
      "metadata": {
        "id": "qmhpOWujR1bC",
        "colab_type": "code",
        "colab": {
          "base_uri": "https://localhost:8080/",
          "height": 34
        },
        "outputId": "e69d2e04-d14b-4ef5-e777-4305174ba0b8"
      },
      "source": [
        "final.Date.max()"
      ],
      "execution_count": null,
      "outputs": [
        {
          "output_type": "execute_result",
          "data": {
            "text/plain": [
              "Timestamp('2020-06-15 00:00:00')"
            ]
          },
          "metadata": {
            "tags": []
          },
          "execution_count": 115
        }
      ]
    },
    {
      "cell_type": "code",
      "metadata": {
        "id": "5opL6n8IIeJu",
        "colab_type": "code",
        "colab": {
          "base_uri": "https://localhost:8080/",
          "height": 486
        },
        "outputId": "ca410fa4-9edf-4b56-f14c-8ac673bee6d7"
      },
      "source": [
        "image_no = 0\n",
        "vmin, vmax = 0, final.log_Confirmed[final.Date == '2020-06-15'].max()\n",
        "fig, ax = plt.subplots(1, figsize=(30, 10))\n",
        "variable = 'log_Confirmed'\n",
        "sm = plt.cm.ScalarMappable(cmap='OrRd', norm=plt.Normalize(vmin=vmin, vmax=vmax))\n",
        "sm.set_array([])\n",
        "fig.colorbar(sm, pad = 0.0001, shrink=0.5)\n",
        "\n",
        "\n",
        "for i in range(0, len(date_list_test)):   \n",
        "    date_for_mask = date_list_test.Date.values[i]\n",
        "    mask = (final['Date'] == date_for_mask)\n",
        "    my_map = final.loc[mask]\n",
        "    ax.axis('off')\n",
        "    fig.suptitle('log(CONFIRMED CASES) - COVID 19 <' + str(date_list_test.Date.dt.date.values[i]) + '>', fontsize=26, fontweight = 3)\n",
        "    my_map.plot(column=variable, cmap='OrRd', linewidth=0.8, ax=ax, edgecolor='0.8')\n",
        "    fig.savefig('test_images/WORLD_MAP_{image_no:04d}.png'.format(image_no=image_no), \n",
        "                dpi=300, bbox_inches='tight')\n",
        "    image_no +=1"
      ],
      "execution_count": null,
      "outputs": [
        {
          "output_type": "display_data",
          "data": {
            "image/png": "[encoded data removed]",
            "text/plain": [
              "<Figure size 2160x720 with 2 Axes>"
            ]
          },
          "metadata": {
            "tags": []
          }
        }
      ]
    },
    {
      "cell_type": "code",
      "metadata": {
        "id": "kmapDUW3IeJw",
        "colab_type": "code",
        "colab": {}
      },
      "source": [
        ""
      ],
      "execution_count": null,
      "outputs": []
    },
    {
      "cell_type": "code",
      "metadata": {
        "id": "1aeLtEugIeJ1",
        "colab_type": "code",
        "colab": {}
      },
      "source": [
        "# After confirming that the test images are as expected, we can go ahead\n",
        "# and start plotting the individual maps for each date "
      ],
      "execution_count": null,
      "outputs": []
    },
    {
      "cell_type": "markdown",
      "metadata": {
        "id": "zEg0lRqlS_VG",
        "colab_type": "text"
      },
      "source": [
        "## ---------------------------------------------------------------------------------------\n",
        "## Plotting the multiple maps for all dates\n",
        "## ---------------------------------------------------------------------------------------"
      ]
    },
    {
      "cell_type": "code",
      "metadata": {
        "id": "kFl7ObRUS__t",
        "colab_type": "code",
        "colab": {
          "base_uri": "https://localhost:8080/",
          "height": 486
        },
        "outputId": "cfaaab99-dcc6-496c-c271-6a46ae112617"
      },
      "source": [
        "image_no = 0\n",
        "vmin, vmax = 0, final.log_Confirmed[final.Date == '2020-06-15'].max()\n",
        "fig, ax = plt.subplots(1, figsize=(30, 10))\n",
        "variable = 'log_Confirmed'\n",
        "sm = plt.cm.ScalarMappable(cmap='OrRd', norm=plt.Normalize(vmin=vmin, vmax=vmax))\n",
        "sm.set_array([])\n",
        "fig.colorbar(sm, pad = 0.0001, shrink=0.5)\n",
        "\n",
        "\n",
        "for i in range(0, len(date_list)):   \n",
        "    date_for_mask = date_list.Date.values[i]\n",
        "    mask = (final['Date'] == date_for_mask)\n",
        "    my_map = final.loc[mask]\n",
        "    ax.axis('off')\n",
        "    fig.suptitle('log(CONFIRMED CASES) - COVID 19 <' + str(date_list.Date.dt.date.values[i]) + '>', fontsize=26, fontweight = 3)\n",
        "    my_map.plot(column=variable, cmap='OrRd', linewidth=0.8, ax=ax, edgecolor='0.8')\n",
        "    fig.savefig('images/WORLD_MAP_{image_no:04d}.png'.format(image_no=image_no), \n",
        "                dpi=300, bbox_inches='tight')\n",
        "    image_no +=1"
      ],
      "execution_count": null,
      "outputs": [
        {
          "output_type": "display_data",
          "data": {
            "image/png": "[encoded data removed]",
            "text/plain": [
              "<Figure size 2160x720 with 2 Axes>"
            ]
          },
          "metadata": {
            "tags": []
          }
        }
      ]
    },
    {
      "cell_type": "code",
      "metadata": {
        "id": "udW6oxMeTVKu",
        "colab_type": "code",
        "colab": {}
      },
      "source": [
        ""
      ],
      "execution_count": null,
      "outputs": []
    },
    {
      "cell_type": "code",
      "metadata": {
        "id": "boiMybNVTVIH",
        "colab_type": "code",
        "colab": {}
      },
      "source": [
        ""
      ],
      "execution_count": null,
      "outputs": []
    },
    {
      "cell_type": "code",
      "metadata": {
        "id": "4fQtwmPyTVEf",
        "colab_type": "code",
        "colab": {
          "base_uri": "https://localhost:8080/",
          "height": 34
        },
        "outputId": "0bdfbf6f-9f8e-471b-e1a8-5682e3007786"
      },
      "source": [
        "# Making a video out of all the images\n",
        "images_path = \"images/\"\n",
        "print(os.path.isdir(images_path))\n",
        "os.system(\"ffmpeg -f image2 -r 1 -s 1024x768 -i images/WORLD_MAP_%04d.png -vcodec mpeg4 -y videos/video_fr_1.mp4\")"
      ],
      "execution_count": null,
      "outputs": [
        {
          "output_type": "execute_result",
          "data": {
            "text/plain": [
              "0"
            ]
          },
          "metadata": {
            "tags": []
          },
          "execution_count": 133
        }
      ]
    },
    {
      "cell_type": "code",
      "metadata": {
        "id": "84wqu_UXTVAv",
        "colab_type": "code",
        "colab": {
          "base_uri": "https://localhost:8080/",
          "height": 51
        },
        "outputId": "d4ccdc29-a101-409b-d072-c72ceca60361"
      },
      "source": [
        "# Making a video out of all the images\n",
        "images_path = \"images/\"\n",
        "print(os.path.isdir(images_path))\n",
        "os.system(\"ffmpeg -f image2 -r 1/4 -s 1024x768 -i images/WORLD_MAP_%04d.png -vcodec mpeg4 -y videos/video_fr_1_by_4.mp4\")"
      ],
      "execution_count": null,
      "outputs": [
        {
          "output_type": "stream",
          "text": [
            "True\n"
          ],
          "name": "stdout"
        },
        {
          "output_type": "execute_result",
          "data": {
            "text/plain": [
              "0"
            ]
          },
          "metadata": {
            "tags": []
          },
          "execution_count": 132
        }
      ]
    },
    {
      "cell_type": "code",
      "metadata": {
        "id": "v5f1NmEOi8cG",
        "colab_type": "code",
        "colab": {
          "base_uri": "https://localhost:8080/",
          "height": 51
        },
        "outputId": "75d59c7f-07b1-4a85-b665-636d9beab10b"
      },
      "source": [
        "# Making a video out of all the images\n",
        "images_path = \"images/\"\n",
        "print(os.path.isdir(images_path))\n",
        "os.system(\"ffmpeg -f image2 -r 4 -s 1024x768 -i images/WORLD_MAP_%04d.png -vcodec mpeg4 -y videos/video_fr_4.mp4\")"
      ],
      "execution_count": 140,
      "outputs": [
        {
          "output_type": "stream",
          "text": [
            "True\n"
          ],
          "name": "stdout"
        },
        {
          "output_type": "execute_result",
          "data": {
            "text/plain": [
              "0"
            ]
          },
          "metadata": {
            "tags": []
          },
          "execution_count": 140
        }
      ]
    },
    {
      "cell_type": "code",
      "metadata": {
        "id": "axRm2V3EjIuB",
        "colab_type": "code",
        "colab": {}
      },
      "source": [
        ""
      ],
      "execution_count": null,
      "outputs": []
    },
    {
      "cell_type": "markdown",
      "metadata": {
        "id": "cUtNVunrk5uH",
        "colab_type": "text"
      },
      "source": [
        "## ---------------------------------------------------------------------------------------\n",
        "## Downloading the files from Google Colab\n",
        "## ---------------------------------------------------------------------------------------"
      ]
    },
    {
      "cell_type": "code",
      "metadata": {
        "id": "PsgNOafwk9JX",
        "colab_type": "code",
        "colab": {
          "base_uri": "https://localhost:8080/",
          "height": 1000
        },
        "outputId": "7835ac88-d6bf-474c-efb8-a4aa03709f36"
      },
      "source": [
        "!zip -r file.zip /content"
      ],
      "execution_count": null,
      "outputs": [
        {
          "output_type": "stream",
          "text": [
            "  adding: content/ (stored 0%)\n",
            "  adding: content/.config/ (stored 0%)\n",
            "  adding: content/.config/configurations/ (stored 0%)\n",
            "  adding: content/.config/configurations/config_default (deflated 15%)\n",
            "  adding: content/.config/gce (stored 0%)\n",
            "  adding: content/.config/.last_survey_prompt.yaml (stored 0%)\n",
            "  adding: content/.config/config_sentinel (stored 0%)\n",
            "  adding: content/.config/.last_opt_in_prompt.yaml (stored 0%)\n",
            "  adding: content/.config/active_config (stored 0%)\n",
            "  adding: content/.config/logs/ (stored 0%)\n",
            "  adding: content/.config/logs/2020.06.10/ (stored 0%)\n",
            "  adding: content/.config/logs/2020.06.10/16.27.46.450102.log (deflated 54%)\n",
            "  adding: content/.config/logs/2020.06.10/16.28.00.359521.log (deflated 55%)\n",
            "  adding: content/.config/logs/2020.06.10/16.27.11.187541.log (deflated 92%)\n",
            "  adding: content/.config/logs/2020.06.10/16.27.42.054200.log (deflated 87%)\n",
            "  adding: content/.config/logs/2020.06.10/16.27.29.206693.log (deflated 54%)\n",
            "  adding: content/.config/logs/2020.06.10/16.28.00.889996.log (deflated 54%)\n",
            "  adding: content/.config/.last_update_check.json (deflated 22%)\n",
            "  adding: content/.config/.metricsUUID (stored 0%)\n",
            "  adding: content/country_date_list.csv (deflated 89%)\n",
            "  adding: content/.ipynb_checkpoints/ (stored 0%)\n",
            "  adding: content/videos/ (stored 0%)\n",
            "  adding: content/videos/.ipynb_checkpoints/ (stored 0%)\n",
            "  adding: content/videos/video_fr_1.mp4 (deflated 66%)\n",
            "  adding: content/videos/video_fr_1_by_4.mp4 (deflated 38%)\n",
            "  adding: content/edited_master.csv (deflated 74%)\n",
            "  adding: content/country_list.csv (deflated 46%)\n",
            "  adding: content/shape_files/ (stored 0%)\n",
            "  adding: content/shape_files/Countries_WGS84.shp (deflated 49%)\n",
            "  adding: content/shape_files/Countries_WGS84.shx (deflated 27%)\n",
            "  adding: content/shape_files/Countries_WGS84.cpg (stored 0%)\n",
            "  adding: content/shape_files/Countries_WGS84.prj (deflated 15%)\n",
            "  adding: content/shape_files/Countries_WGS84.dbf (deflated 89%)\n",
            "  adding: content/images/ (stored 0%)\n",
            "  adding: content/images/WORLD_MAP_0084.png (deflated 5%)\n",
            "  adding: content/images/WORLD_MAP_0040.png (deflated 6%)\n",
            "  adding: content/images/WORLD_MAP_0004.png (deflated 6%)\n",
            "  adding: content/images/WORLD_MAP_0077.png (deflated 5%)\n",
            "  adding: content/images/WORLD_MAP_0038.png (deflated 6%)\n",
            "  adding: content/images/WORLD_MAP_0071.png (deflated 5%)\n",
            "  adding: content/images/WORLD_MAP_0006.png (deflated 6%)\n",
            "  adding: content/images/WORLD_MAP_0067.png (deflated 5%)\n",
            "  adding: content/images/WORLD_MAP_0097.png (deflated 5%)\n",
            "  adding: content/images/WORLD_MAP_0089.png (deflated 5%)\n",
            "  adding: content/images/WORLD_MAP_0076.png (deflated 5%)\n",
            "  adding: content/images/WORLD_MAP_0142.png (deflated 5%)\n",
            "  adding: content/images/WORLD_MAP_0131.png (deflated 5%)\n",
            "  adding: content/images/WORLD_MAP_0058.png (deflated 5%)\n",
            "  adding: content/images/WORLD_MAP_0072.png (deflated 5%)\n",
            "  adding: content/images/WORLD_MAP_0024.png (deflated 6%)\n",
            "  adding: content/images/WORLD_MAP_0059.png (deflated 5%)\n",
            "  adding: content/images/WORLD_MAP_0138.png (deflated 5%)\n",
            "  adding: content/images/WORLD_MAP_0034.png (deflated 6%)\n",
            "  adding: content/images/WORLD_MAP_0115.png (deflated 5%)\n",
            "  adding: content/images/WORLD_MAP_0134.png (deflated 5%)\n",
            "  adding: content/images/WORLD_MAP_0064.png (deflated 5%)\n",
            "  adding: content/images/WORLD_MAP_0052.png (deflated 5%)\n",
            "  adding: content/images/WORLD_MAP_0120.png (deflated 5%)\n",
            "  adding: content/images/WORLD_MAP_0029.png (deflated 6%)\n",
            "  adding: content/images/WORLD_MAP_0012.png (deflated 6%)\n",
            "  adding: content/images/WORLD_MAP_0133.png (deflated 5%)\n",
            "  adding: content/images/WORLD_MAP_0090.png (deflated 5%)\n",
            "  adding: content/images/WORLD_MAP_0031.png (deflated 6%)\n",
            "  adding: content/images/WORLD_MAP_0037.png (deflated 6%)\n",
            "  adding: content/images/WORLD_MAP_0093.png (deflated 5%)\n",
            "  adding: content/images/WORLD_MAP_0008.png (deflated 6%)\n",
            "  adding: content/images/WORLD_MAP_0015.png (deflated 6%)\n",
            "  adding: content/images/WORLD_MAP_0096.png (deflated 5%)\n",
            "  adding: content/images/WORLD_MAP_0087.png (deflated 5%)\n",
            "  adding: content/images/WORLD_MAP_0098.png (deflated 5%)\n",
            "  adding: content/images/WORLD_MAP_0068.png (deflated 5%)\n",
            "  adding: content/images/WORLD_MAP_0122.png (deflated 5%)\n",
            "  adding: content/images/WORLD_MAP_0043.png (deflated 6%)\n",
            "  adding: content/images/WORLD_MAP_0116.png (deflated 5%)\n",
            "  adding: content/images/WORLD_MAP_0066.png (deflated 5%)\n",
            "  adding: content/images/WORLD_MAP_0140.png (deflated 5%)\n",
            "  adding: content/images/WORLD_MAP_0143.png (deflated 5%)\n",
            "  adding: content/images/WORLD_MAP_0062.png (deflated 5%)\n",
            "  adding: content/images/WORLD_MAP_0033.png (deflated 6%)\n",
            "  adding: content/images/WORLD_MAP_0041.png (deflated 6%)\n",
            "  adding: content/images/WORLD_MAP_0107.png (deflated 5%)\n",
            "  adding: content/images/WORLD_MAP_0009.png (deflated 6%)\n",
            "  adding: content/images/WORLD_MAP_0095.png (deflated 5%)\n",
            "  adding: content/images/WORLD_MAP_0007.png (deflated 6%)\n",
            "  adding: content/images/WORLD_MAP_0111.png (deflated 5%)\n",
            "  adding: content/images/WORLD_MAP_0044.png (deflated 6%)\n",
            "  adding: content/images/WORLD_MAP_0001.png (deflated 6%)\n",
            "  adding: content/images/WORLD_MAP_0055.png (deflated 5%)\n",
            "  adding: content/images/WORLD_MAP_0023.png (deflated 6%)\n",
            "  adding: content/images/WORLD_MAP_0030.png (deflated 6%)\n",
            "  adding: content/images/WORLD_MAP_0086.png (deflated 5%)\n",
            "  adding: content/images/WORLD_MAP_0056.png (deflated 5%)\n",
            "  adding: content/images/WORLD_MAP_0123.png (deflated 5%)\n",
            "  adding: content/images/WORLD_MAP_0082.png (deflated 5%)\n",
            "  adding: content/images/WORLD_MAP_0110.png (deflated 5%)\n",
            "  adding: content/images/WORLD_MAP_0010.png (deflated 6%)\n",
            "  adding: content/images/WORLD_MAP_0057.png (deflated 5%)\n",
            "  adding: content/images/WORLD_MAP_0102.png (deflated 5%)\n",
            "  adding: content/images/WORLD_MAP_0137.png (deflated 5%)\n",
            "  adding: content/images/WORLD_MAP_0118.png (deflated 5%)\n",
            "  adding: content/images/WORLD_MAP_0048.png (deflated 6%)\n",
            "  adding: content/images/WORLD_MAP_0083.png (deflated 5%)\n",
            "  adding: content/images/WORLD_MAP_0104.png (deflated 5%)\n",
            "  adding: content/images/WORLD_MAP_0020.png (deflated 6%)\n",
            "  adding: content/images/WORLD_MAP_0103.png (deflated 5%)\n",
            "  adding: content/images/WORLD_MAP_0019.png (deflated 6%)\n",
            "  adding: content/images/WORLD_MAP_0011.png (deflated 6%)\n",
            "  adding: content/images/WORLD_MAP_0053.png (deflated 5%)\n",
            "  adding: content/images/WORLD_MAP_0075.png (deflated 5%)\n",
            "  adding: content/images/WORLD_MAP_0016.png (deflated 6%)\n",
            "  adding: content/images/WORLD_MAP_0114.png (deflated 5%)\n",
            "  adding: content/images/WORLD_MAP_0101.png (deflated 5%)\n",
            "  adding: content/images/WORLD_MAP_0025.png (deflated 6%)\n",
            "  adding: content/images/WORLD_MAP_0125.png (deflated 5%)\n",
            "  adding: content/images/WORLD_MAP_0091.png (deflated 5%)\n",
            "  adding: content/images/WORLD_MAP_0028.png (deflated 6%)\n",
            "  adding: content/images/WORLD_MAP_0144.png (deflated 5%)\n",
            "  adding: content/images/WORLD_MAP_0045.png (deflated 6%)\n",
            "  adding: content/images/WORLD_MAP_0036.png (deflated 6%)\n",
            "  adding: content/images/WORLD_MAP_0054.png (deflated 5%)\n",
            "  adding: content/images/WORLD_MAP_0063.png (deflated 5%)\n",
            "  adding: content/images/WORLD_MAP_0094.png (deflated 5%)\n",
            "  adding: content/images/WORLD_MAP_0079.png (deflated 5%)\n",
            "  adding: content/images/WORLD_MAP_0136.png (deflated 5%)\n",
            "  adding: content/images/WORLD_MAP_0017.png (deflated 6%)\n",
            "  adding: content/images/WORLD_MAP_0005.png (deflated 6%)\n",
            "  adding: content/images/WORLD_MAP_0049.png (deflated 5%)\n",
            "  adding: content/images/WORLD_MAP_0124.png (deflated 5%)\n",
            "  adding: content/images/WORLD_MAP_0069.png (deflated 5%)\n",
            "  adding: content/images/WORLD_MAP_0018.png (deflated 6%)\n",
            "  adding: content/images/WORLD_MAP_0060.png (deflated 5%)\n",
            "  adding: content/images/WORLD_MAP_0139.png (deflated 5%)\n",
            "  adding: content/images/WORLD_MAP_0003.png (deflated 6%)\n",
            "  adding: content/images/WORLD_MAP_0128.png (deflated 5%)\n",
            "  adding: content/images/WORLD_MAP_0119.png (deflated 5%)\n",
            "  adding: content/images/WORLD_MAP_0000.png (deflated 6%)\n",
            "  adding: content/images/WORLD_MAP_0022.png (deflated 6%)\n",
            "  adding: content/images/WORLD_MAP_0027.png (deflated 6%)\n",
            "  adding: content/images/WORLD_MAP_0088.png (deflated 5%)\n",
            "  adding: content/images/WORLD_MAP_0106.png (deflated 5%)\n",
            "  adding: content/images/WORLD_MAP_0050.png (deflated 6%)\n",
            "  adding: content/images/WORLD_MAP_0070.png (deflated 5%)\n",
            "  adding: content/images/WORLD_MAP_0105.png (deflated 5%)\n",
            "  adding: content/images/WORLD_MAP_0032.png (deflated 6%)\n",
            "  adding: content/images/WORLD_MAP_0042.png (deflated 6%)\n",
            "  adding: content/images/WORLD_MAP_0047.png (deflated 6%)\n",
            "  adding: content/images/WORLD_MAP_0073.png (deflated 5%)\n",
            "  adding: content/images/WORLD_MAP_0145.png (deflated 5%)\n",
            "  adding: content/images/WORLD_MAP_0081.png (deflated 5%)\n",
            "  adding: content/images/WORLD_MAP_0113.png (deflated 5%)\n",
            "  adding: content/images/WORLD_MAP_0021.png (deflated 6%)\n",
            "  adding: content/images/WORLD_MAP_0078.png (deflated 5%)\n",
            "  adding: content/images/WORLD_MAP_0039.png (deflated 6%)\n",
            "  adding: content/images/WORLD_MAP_0108.png (deflated 5%)\n",
            "  adding: content/images/WORLD_MAP_0080.png (deflated 5%)\n",
            "  adding: content/images/WORLD_MAP_0085.png (deflated 5%)\n",
            "  adding: content/images/WORLD_MAP_0051.png (deflated 5%)\n",
            "  adding: content/images/WORLD_MAP_0127.png (deflated 5%)\n",
            "  adding: content/images/WORLD_MAP_0099.png (deflated 5%)\n",
            "  adding: content/images/WORLD_MAP_0129.png (deflated 5%)\n",
            "  adding: content/images/WORLD_MAP_0121.png (deflated 5%)\n",
            "  adding: content/images/WORLD_MAP_0065.png (deflated 5%)\n",
            "  adding: content/images/WORLD_MAP_0132.png (deflated 5%)\n",
            "  adding: content/images/WORLD_MAP_0117.png (deflated 5%)\n",
            "  adding: content/images/WORLD_MAP_0130.png (deflated 5%)\n",
            "  adding: content/images/WORLD_MAP_0002.png (deflated 6%)\n",
            "  adding: content/images/WORLD_MAP_0035.png (deflated 6%)\n",
            "  adding: content/images/WORLD_MAP_0046.png (deflated 5%)\n",
            "  adding: content/images/WORLD_MAP_0092.png (deflated 5%)\n",
            "  adding: content/images/WORLD_MAP_0141.png (deflated 5%)\n",
            "  adding: content/images/WORLD_MAP_0135.png (deflated 5%)\n",
            "  adding: content/images/WORLD_MAP_0013.png (deflated 6%)\n",
            "  adding: content/images/WORLD_MAP_0112.png (deflated 5%)\n",
            "  adding: content/images/WORLD_MAP_0074.png (deflated 5%)\n",
            "  adding: content/images/WORLD_MAP_0109.png (deflated 5%)\n",
            "  adding: content/images/WORLD_MAP_0061.png (deflated 5%)\n",
            "  adding: content/images/WORLD_MAP_0126.png (deflated 5%)\n",
            "  adding: content/images/WORLD_MAP_0100.png (deflated 5%)\n",
            "  adding: content/images/WORLD_MAP_0014.png (deflated 6%)\n",
            "  adding: content/images/WORLD_MAP_0026.png (deflated 6%)\n",
            "  adding: content/test_images/ (stored 0%)\n",
            "  adding: content/test_images/WORLD_MAP_0004.png (deflated 5%)\n",
            "  adding: content/test_images/WORLD_MAP_0001.png (deflated 6%)\n",
            "  adding: content/test_images/WORLD_MAP_0005.png (deflated 5%)\n",
            "  adding: content/test_images/WORLD_MAP_0003.png (deflated 5%)\n",
            "  adding: content/test_images/WORLD_MAP_0000.png (deflated 6%)\n",
            "  adding: content/test_images/WORLD_MAP_0002.png (deflated 5%)\n",
            "  adding: content/files/ (stored 0%)\n",
            "  adding: content/files/covid19.csv (deflated 82%)\n",
            "  adding: content/files/covid19.json (deflated 93%)\n",
            "  adding: content/date_list.csv (deflated 83%)\n",
            "  adding: content/sample_data/ (stored 0%)\n",
            "  adding: content/sample_data/README.md (deflated 42%)\n",
            "  adding: content/sample_data/anscombe.json (deflated 83%)\n",
            "  adding: content/sample_data/mnist_train_small.csv (deflated 88%)\n",
            "  adding: content/sample_data/mnist_test.csv (deflated 88%)\n",
            "  adding: content/sample_data/california_housing_test.csv (deflated 76%)\n",
            "  adding: content/sample_data/california_housing_train.csv (deflated 79%)\n"
          ],
          "name": "stdout"
        },
        {
          "output_type": "error",
          "ename": "MessageError",
          "evalue": "ignored",
          "traceback": [
            "\u001b[0;31m---------------------------------------------------------------------------\u001b[0m",
            "\u001b[0;31mMessageError\u001b[0m                              Traceback (most recent call last)",
            "\u001b[0;32m<ipython-input-137-0fdfeefbf12c>\u001b[0m in \u001b[0;36m<module>\u001b[0;34m()\u001b[0m\n\u001b[1;32m      1\u001b[0m \u001b[0mget_ipython\u001b[0m\u001b[0;34m(\u001b[0m\u001b[0;34m)\u001b[0m\u001b[0;34m.\u001b[0m\u001b[0msystem\u001b[0m\u001b[0;34m(\u001b[0m\u001b[0;34m'zip -r file.zip /content'\u001b[0m\u001b[0;34m)\u001b[0m\u001b[0;34m\u001b[0m\u001b[0;34m\u001b[0m\u001b[0m\n\u001b[1;32m      2\u001b[0m \u001b[0;32mfrom\u001b[0m \u001b[0mgoogle\u001b[0m\u001b[0;34m.\u001b[0m\u001b[0mcolab\u001b[0m \u001b[0;32mimport\u001b[0m \u001b[0mfiles\u001b[0m\u001b[0;34m\u001b[0m\u001b[0;34m\u001b[0m\u001b[0m\n\u001b[0;32m----> 3\u001b[0;31m \u001b[0mfiles\u001b[0m\u001b[0;34m.\u001b[0m\u001b[0mdownload\u001b[0m\u001b[0;34m(\u001b[0m\u001b[0;34m\"file.zip\"\u001b[0m\u001b[0;34m)\u001b[0m\u001b[0;34m\u001b[0m\u001b[0;34m\u001b[0m\u001b[0m\n\u001b[0m",
            "\u001b[0;32m/usr/local/lib/python3.6/dist-packages/google/colab/files.py\u001b[0m in \u001b[0;36mdownload\u001b[0;34m(filename)\u001b[0m\n\u001b[1;32m    185\u001b[0m       \u001b[0;34m'port'\u001b[0m\u001b[0;34m:\u001b[0m \u001b[0mport\u001b[0m\u001b[0;34m,\u001b[0m\u001b[0;34m\u001b[0m\u001b[0;34m\u001b[0m\u001b[0m\n\u001b[1;32m    186\u001b[0m       \u001b[0;34m'path'\u001b[0m\u001b[0;34m:\u001b[0m \u001b[0m_os\u001b[0m\u001b[0;34m.\u001b[0m\u001b[0mpath\u001b[0m\u001b[0;34m.\u001b[0m\u001b[0mabspath\u001b[0m\u001b[0;34m(\u001b[0m\u001b[0mfilename\u001b[0m\u001b[0;34m)\u001b[0m\u001b[0;34m,\u001b[0m\u001b[0;34m\u001b[0m\u001b[0;34m\u001b[0m\u001b[0m\n\u001b[0;32m--> 187\u001b[0;31m       \u001b[0;34m'name'\u001b[0m\u001b[0;34m:\u001b[0m \u001b[0m_os\u001b[0m\u001b[0;34m.\u001b[0m\u001b[0mpath\u001b[0m\u001b[0;34m.\u001b[0m\u001b[0mbasename\u001b[0m\u001b[0;34m(\u001b[0m\u001b[0mfilename\u001b[0m\u001b[0;34m)\u001b[0m\u001b[0;34m,\u001b[0m\u001b[0;34m\u001b[0m\u001b[0;34m\u001b[0m\u001b[0m\n\u001b[0m\u001b[1;32m    188\u001b[0m   })\n\u001b[1;32m    189\u001b[0m \u001b[0;34m\u001b[0m\u001b[0m\n",
            "\u001b[0;32m/usr/local/lib/python3.6/dist-packages/google/colab/output/_js.py\u001b[0m in \u001b[0;36meval_js\u001b[0;34m(script, ignore_result)\u001b[0m\n\u001b[1;32m     37\u001b[0m   \u001b[0;32mif\u001b[0m \u001b[0mignore_result\u001b[0m\u001b[0;34m:\u001b[0m\u001b[0;34m\u001b[0m\u001b[0;34m\u001b[0m\u001b[0m\n\u001b[1;32m     38\u001b[0m     \u001b[0;32mreturn\u001b[0m\u001b[0;34m\u001b[0m\u001b[0;34m\u001b[0m\u001b[0m\n\u001b[0;32m---> 39\u001b[0;31m   \u001b[0;32mreturn\u001b[0m \u001b[0m_message\u001b[0m\u001b[0;34m.\u001b[0m\u001b[0mread_reply_from_input\u001b[0m\u001b[0;34m(\u001b[0m\u001b[0mrequest_id\u001b[0m\u001b[0;34m)\u001b[0m\u001b[0;34m\u001b[0m\u001b[0;34m\u001b[0m\u001b[0m\n\u001b[0m\u001b[1;32m     40\u001b[0m \u001b[0;34m\u001b[0m\u001b[0m\n\u001b[1;32m     41\u001b[0m \u001b[0;34m\u001b[0m\u001b[0m\n",
            "\u001b[0;32m/usr/local/lib/python3.6/dist-packages/google/colab/_message.py\u001b[0m in \u001b[0;36mread_reply_from_input\u001b[0;34m(message_id, timeout_sec)\u001b[0m\n\u001b[1;32m    104\u001b[0m         reply.get('colab_msg_id') == message_id):\n\u001b[1;32m    105\u001b[0m       \u001b[0;32mif\u001b[0m \u001b[0;34m'error'\u001b[0m \u001b[0;32min\u001b[0m \u001b[0mreply\u001b[0m\u001b[0;34m:\u001b[0m\u001b[0;34m\u001b[0m\u001b[0;34m\u001b[0m\u001b[0m\n\u001b[0;32m--> 106\u001b[0;31m         \u001b[0;32mraise\u001b[0m \u001b[0mMessageError\u001b[0m\u001b[0;34m(\u001b[0m\u001b[0mreply\u001b[0m\u001b[0;34m[\u001b[0m\u001b[0;34m'error'\u001b[0m\u001b[0;34m]\u001b[0m\u001b[0;34m)\u001b[0m\u001b[0;34m\u001b[0m\u001b[0;34m\u001b[0m\u001b[0m\n\u001b[0m\u001b[1;32m    107\u001b[0m       \u001b[0;32mreturn\u001b[0m \u001b[0mreply\u001b[0m\u001b[0;34m.\u001b[0m\u001b[0mget\u001b[0m\u001b[0;34m(\u001b[0m\u001b[0;34m'data'\u001b[0m\u001b[0;34m,\u001b[0m \u001b[0;32mNone\u001b[0m\u001b[0;34m)\u001b[0m\u001b[0;34m\u001b[0m\u001b[0;34m\u001b[0m\u001b[0m\n\u001b[1;32m    108\u001b[0m \u001b[0;34m\u001b[0m\u001b[0m\n",
            "\u001b[0;31mMessageError\u001b[0m: TypeError: Failed to fetch"
          ]
        }
      ]
    },
    {
      "cell_type": "code",
      "metadata": {
        "id": "Laz4EVRdlWKL",
        "colab_type": "code",
        "colab": {
          "base_uri": "https://localhost:8080/",
          "height": 324
        },
        "outputId": "74e678e1-da2a-412a-cd66-760f96223b41"
      },
      "source": [
        "from google.colab import files\n",
        "files.download(\"file.zip\")"
      ],
      "execution_count": null,
      "outputs": [
        {
          "output_type": "error",
          "ename": "MessageError",
          "evalue": "ignored",
          "traceback": [
            "\u001b[0;31m---------------------------------------------------------------------------\u001b[0m",
            "\u001b[0;31mMessageError\u001b[0m                              Traceback (most recent call last)",
            "\u001b[0;32m<ipython-input-138-1e370f25d47f>\u001b[0m in \u001b[0;36m<module>\u001b[0;34m()\u001b[0m\n\u001b[1;32m      1\u001b[0m \u001b[0;32mfrom\u001b[0m \u001b[0mgoogle\u001b[0m\u001b[0;34m.\u001b[0m\u001b[0mcolab\u001b[0m \u001b[0;32mimport\u001b[0m \u001b[0mfiles\u001b[0m\u001b[0;34m\u001b[0m\u001b[0;34m\u001b[0m\u001b[0m\n\u001b[0;32m----> 2\u001b[0;31m \u001b[0mfiles\u001b[0m\u001b[0;34m.\u001b[0m\u001b[0mdownload\u001b[0m\u001b[0;34m(\u001b[0m\u001b[0;34m\"file.zip\"\u001b[0m\u001b[0;34m)\u001b[0m\u001b[0;34m\u001b[0m\u001b[0;34m\u001b[0m\u001b[0m\n\u001b[0m",
            "\u001b[0;32m/usr/local/lib/python3.6/dist-packages/google/colab/files.py\u001b[0m in \u001b[0;36mdownload\u001b[0;34m(filename)\u001b[0m\n\u001b[1;32m    185\u001b[0m       \u001b[0;34m'port'\u001b[0m\u001b[0;34m:\u001b[0m \u001b[0mport\u001b[0m\u001b[0;34m,\u001b[0m\u001b[0;34m\u001b[0m\u001b[0;34m\u001b[0m\u001b[0m\n\u001b[1;32m    186\u001b[0m       \u001b[0;34m'path'\u001b[0m\u001b[0;34m:\u001b[0m \u001b[0m_os\u001b[0m\u001b[0;34m.\u001b[0m\u001b[0mpath\u001b[0m\u001b[0;34m.\u001b[0m\u001b[0mabspath\u001b[0m\u001b[0;34m(\u001b[0m\u001b[0mfilename\u001b[0m\u001b[0;34m)\u001b[0m\u001b[0;34m,\u001b[0m\u001b[0;34m\u001b[0m\u001b[0;34m\u001b[0m\u001b[0m\n\u001b[0;32m--> 187\u001b[0;31m       \u001b[0;34m'name'\u001b[0m\u001b[0;34m:\u001b[0m \u001b[0m_os\u001b[0m\u001b[0;34m.\u001b[0m\u001b[0mpath\u001b[0m\u001b[0;34m.\u001b[0m\u001b[0mbasename\u001b[0m\u001b[0;34m(\u001b[0m\u001b[0mfilename\u001b[0m\u001b[0;34m)\u001b[0m\u001b[0;34m,\u001b[0m\u001b[0;34m\u001b[0m\u001b[0;34m\u001b[0m\u001b[0m\n\u001b[0m\u001b[1;32m    188\u001b[0m   })\n\u001b[1;32m    189\u001b[0m \u001b[0;34m\u001b[0m\u001b[0m\n",
            "\u001b[0;32m/usr/local/lib/python3.6/dist-packages/google/colab/output/_js.py\u001b[0m in \u001b[0;36meval_js\u001b[0;34m(script, ignore_result)\u001b[0m\n\u001b[1;32m     37\u001b[0m   \u001b[0;32mif\u001b[0m \u001b[0mignore_result\u001b[0m\u001b[0;34m:\u001b[0m\u001b[0;34m\u001b[0m\u001b[0;34m\u001b[0m\u001b[0m\n\u001b[1;32m     38\u001b[0m     \u001b[0;32mreturn\u001b[0m\u001b[0;34m\u001b[0m\u001b[0;34m\u001b[0m\u001b[0m\n\u001b[0;32m---> 39\u001b[0;31m   \u001b[0;32mreturn\u001b[0m \u001b[0m_message\u001b[0m\u001b[0;34m.\u001b[0m\u001b[0mread_reply_from_input\u001b[0m\u001b[0;34m(\u001b[0m\u001b[0mrequest_id\u001b[0m\u001b[0;34m)\u001b[0m\u001b[0;34m\u001b[0m\u001b[0;34m\u001b[0m\u001b[0m\n\u001b[0m\u001b[1;32m     40\u001b[0m \u001b[0;34m\u001b[0m\u001b[0m\n\u001b[1;32m     41\u001b[0m \u001b[0;34m\u001b[0m\u001b[0m\n",
            "\u001b[0;32m/usr/local/lib/python3.6/dist-packages/google/colab/_message.py\u001b[0m in \u001b[0;36mread_reply_from_input\u001b[0;34m(message_id, timeout_sec)\u001b[0m\n\u001b[1;32m    104\u001b[0m         reply.get('colab_msg_id') == message_id):\n\u001b[1;32m    105\u001b[0m       \u001b[0;32mif\u001b[0m \u001b[0;34m'error'\u001b[0m \u001b[0;32min\u001b[0m \u001b[0mreply\u001b[0m\u001b[0;34m:\u001b[0m\u001b[0;34m\u001b[0m\u001b[0;34m\u001b[0m\u001b[0m\n\u001b[0;32m--> 106\u001b[0;31m         \u001b[0;32mraise\u001b[0m \u001b[0mMessageError\u001b[0m\u001b[0;34m(\u001b[0m\u001b[0mreply\u001b[0m\u001b[0;34m[\u001b[0m\u001b[0;34m'error'\u001b[0m\u001b[0;34m]\u001b[0m\u001b[0;34m)\u001b[0m\u001b[0;34m\u001b[0m\u001b[0;34m\u001b[0m\u001b[0m\n\u001b[0m\u001b[1;32m    107\u001b[0m       \u001b[0;32mreturn\u001b[0m \u001b[0mreply\u001b[0m\u001b[0;34m.\u001b[0m\u001b[0mget\u001b[0m\u001b[0;34m(\u001b[0m\u001b[0;34m'data'\u001b[0m\u001b[0;34m,\u001b[0m \u001b[0;32mNone\u001b[0m\u001b[0;34m)\u001b[0m\u001b[0;34m\u001b[0m\u001b[0;34m\u001b[0m\u001b[0m\n\u001b[1;32m    108\u001b[0m \u001b[0;34m\u001b[0m\u001b[0m\n",
            "\u001b[0;31mMessageError\u001b[0m: TypeError: Failed to fetch"
          ]
        }
      ]
    },
    {
      "cell_type": "code",
      "metadata": {
        "id": "fYo80NQ4tbit",
        "colab_type": "code",
        "colab": {}
      },
      "source": [
        ""
      ],
      "execution_count": null,
      "outputs": []
    },
    {
      "cell_type": "code",
      "metadata": {
        "id": "GXgwjKTjmvuV",
        "colab_type": "code",
        "colab": {}
      },
      "source": [
        ""
      ],
      "execution_count": null,
      "outputs": []
    }
  ]
}